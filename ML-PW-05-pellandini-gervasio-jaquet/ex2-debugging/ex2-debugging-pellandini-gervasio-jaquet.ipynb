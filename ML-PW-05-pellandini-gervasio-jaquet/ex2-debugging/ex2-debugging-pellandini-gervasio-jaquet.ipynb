{
 "cells": [
  {
   "cell_type": "code",
   "execution_count": 1,
   "id": "f2fea121",
   "metadata": {
    "ExecuteTime": {
     "end_time": "2025-10-19T13:27:38.467286Z",
     "start_time": "2025-10-19T13:27:38.461243Z"
    }
   },
   "outputs": [],
   "source": [
    "import numpy as np\n",
    "import pandas as pd\n",
    "\n",
    "from sklearn import metrics\n",
    "from sklearn import model_selection\n",
    "from sklearn.metrics import confusion_matrix, ConfusionMatrixDisplay\n",
    "from sklearn.model_selection import train_test_split\n",
    "from sklearn.neighbors import KNeighborsClassifier\n",
    "from sklearn.preprocessing import Binarizer, LabelEncoder, MaxAbsScaler, MinMaxScaler, OneHotEncoder, \\\n",
    "    OrdinalEncoder, RobustScaler, StandardScaler\n",
    "from sklearn.model_selection import StratifiedKFold\n",
    "from sklearn.metrics import f1_score, precision_score, recall_score\n",
    "from sklearn.metrics import balanced_accuracy_score\n"
   ]
  },
  {
   "cell_type": "markdown",
   "id": "4966e6b6",
   "metadata": {},
   "source": [
    "# Exercise 2 - Debugging - Drugs\n",
    "\n",
    "The dataset contains a set of patients, all of whom suffered from the same illness.\n",
    "During their course of treatment, each patient responded to one of 5 medications: Drug A, Drug B, Drug c, Drug x or y.\n",
    "\n",
    "This complex dataset proposes a set of challenges that you'll try to overcome. A basic ML pipeline is already in place. You have to optimize the performance of the model by applying good practices, debugging pre-processing errors, etc.\n",
    "\n",
    "**Rules**:\n",
    "- Do not use other modules than those already imported *(or do it only if your own code is not working. In this case, keep your own code in the notebook, commented, so that we know what you tried)*.\n",
    "- Explain **all** of your choices. For every task, choose the most appropriate option for this problem and describe your choice.\n",
    "- You can modify any parts of the code or replace the model by one already used in previous PWs.\n",
    "\n",
    "**Work to do**:\n",
    "- [ ] Apply a type of normalization.\n",
    "- [ ] Encode categorical data.\n",
    "- [ ] Use all columns in the dataset (or choose the most meaningful features).\n",
    "- [ ] Choose a more appropriate metric.\n",
    "- [ ] Optimize hyper-parameters.\n",
    "- [ ] Test the model performance correctly using a separated test set.\n",
    "- Apply **two** of those techniques:\n",
    "  - [ ] Keep relative class frequencies in the train/test sets (check train_test_split docs)\n",
    "  - [ ] Show which feature(s) are the most correlated to the target.\n",
    "  - [ ] Use cross-validation."
   ]
  },
  {
   "cell_type": "code",
   "execution_count": 2,
   "id": "a48ac8c5",
   "metadata": {
    "ExecuteTime": {
     "end_time": "2025-10-19T13:27:38.587738Z",
     "start_time": "2025-10-19T13:27:38.575290Z"
    }
   },
   "outputs": [
    {
     "data": {
      "text/html": [
       "<div>\n",
       "<style scoped>\n",
       "    .dataframe tbody tr th:only-of-type {\n",
       "        vertical-align: middle;\n",
       "    }\n",
       "\n",
       "    .dataframe tbody tr th {\n",
       "        vertical-align: top;\n",
       "    }\n",
       "\n",
       "    .dataframe thead th {\n",
       "        text-align: right;\n",
       "    }\n",
       "</style>\n",
       "<table border=\"1\" class=\"dataframe\">\n",
       "  <thead>\n",
       "    <tr style=\"text-align: right;\">\n",
       "      <th></th>\n",
       "      <th>age</th>\n",
       "      <th>sex</th>\n",
       "      <th>bp</th>\n",
       "      <th>cholesterol</th>\n",
       "      <th>Na_to_K</th>\n",
       "      <th>drug</th>\n",
       "    </tr>\n",
       "  </thead>\n",
       "  <tbody>\n",
       "    <tr>\n",
       "      <th>0</th>\n",
       "      <td>23</td>\n",
       "      <td>F</td>\n",
       "      <td>HIGH</td>\n",
       "      <td>HIGH</td>\n",
       "      <td>25.355</td>\n",
       "      <td>drugY</td>\n",
       "    </tr>\n",
       "    <tr>\n",
       "      <th>1</th>\n",
       "      <td>47</td>\n",
       "      <td>M</td>\n",
       "      <td>LOW</td>\n",
       "      <td>HIGH</td>\n",
       "      <td>13.093</td>\n",
       "      <td>drugC</td>\n",
       "    </tr>\n",
       "    <tr>\n",
       "      <th>2</th>\n",
       "      <td>47</td>\n",
       "      <td>M</td>\n",
       "      <td>LOW</td>\n",
       "      <td>HIGH</td>\n",
       "      <td>10.114</td>\n",
       "      <td>drugC</td>\n",
       "    </tr>\n",
       "    <tr>\n",
       "      <th>3</th>\n",
       "      <td>28</td>\n",
       "      <td>F</td>\n",
       "      <td>NORMAL</td>\n",
       "      <td>HIGH</td>\n",
       "      <td>7.798</td>\n",
       "      <td>drugX</td>\n",
       "    </tr>\n",
       "    <tr>\n",
       "      <th>4</th>\n",
       "      <td>61</td>\n",
       "      <td>F</td>\n",
       "      <td>LOW</td>\n",
       "      <td>HIGH</td>\n",
       "      <td>18.043</td>\n",
       "      <td>drugY</td>\n",
       "    </tr>\n",
       "  </tbody>\n",
       "</table>\n",
       "</div>"
      ],
      "text/plain": [
       "   age sex      bp cholesterol  Na_to_K   drug\n",
       "0   23   F    HIGH        HIGH   25.355  drugY\n",
       "1   47   M     LOW        HIGH   13.093  drugC\n",
       "2   47   M     LOW        HIGH   10.114  drugC\n",
       "3   28   F  NORMAL        HIGH    7.798  drugX\n",
       "4   61   F     LOW        HIGH   18.043  drugY"
      ]
     },
     "execution_count": 2,
     "metadata": {},
     "output_type": "execute_result"
    }
   ],
   "source": [
    "df = pd.read_csv(\"drug.csv\")\n",
    "df.head()"
   ]
  },
  {
   "cell_type": "markdown",
   "id": "1053063d16880256",
   "metadata": {},
   "source": [
    "## 0) Quick Display of data \n"
   ]
  },
  {
   "cell_type": "code",
   "execution_count": 3,
   "id": "d61a92ea99eb00d8",
   "metadata": {
    "ExecuteTime": {
     "end_time": "2025-10-19T13:27:38.650929Z",
     "start_time": "2025-10-19T13:27:38.640408Z"
    }
   },
   "outputs": [
    {
     "name": "stdout",
     "output_type": "stream",
     "text": [
      "<class 'pandas.core.frame.DataFrame'>\n",
      "RangeIndex: 200 entries, 0 to 199\n",
      "Data columns (total 6 columns):\n",
      " #   Column       Non-Null Count  Dtype  \n",
      "---  ------       --------------  -----  \n",
      " 0   age          200 non-null    int64  \n",
      " 1   sex          200 non-null    object \n",
      " 2   bp           200 non-null    object \n",
      " 3   cholesterol  200 non-null    object \n",
      " 4   Na_to_K      200 non-null    float64\n",
      " 5   drug         200 non-null    object \n",
      "dtypes: float64(1), int64(1), object(4)\n",
      "memory usage: 9.5+ KB\n"
     ]
    }
   ],
   "source": [
    "df.info()"
   ]
  },
  {
   "cell_type": "code",
   "execution_count": 4,
   "id": "3cc9f8235705e480",
   "metadata": {
    "ExecuteTime": {
     "end_time": "2025-10-19T13:27:38.861414Z",
     "start_time": "2025-10-19T13:27:38.706557Z"
    }
   },
   "outputs": [
    {
     "data": {
      "image/png": "[encoded data removed]",
      "text/plain": [
       "<Figure size 640x480 with 1 Axes>"
      ]
     },
     "metadata": {},
     "output_type": "display_data"
    }
   ],
   "source": [
    "from matplotlib import pyplot as plt\n",
    "\n",
    "counts = df['drug'].value_counts()\n",
    "\n",
    "categories = ['DrugY', 'drugX', 'drugA', 'drugC', 'drugB']\n",
    "plt.pie(counts,\n",
    "        labels=categories,\n",
    "        autopct='%1.1f%%',\n",
    "        rotatelabels=True)\n",
    "plt.title('pie chart')\n",
    "plt.legend()\n",
    "plt.show()"
   ]
  },
  {
   "cell_type": "markdown",
   "id": "1368d9541d7ec961",
   "metadata": {},
   "source": [
    "some drugs are more present than others in the ds"
   ]
  },
  {
   "cell_type": "code",
   "execution_count": 5,
   "id": "b136083ee666d6f1",
   "metadata": {
    "ExecuteTime": {
     "end_time": "2025-10-19T13:27:38.921510Z",
     "start_time": "2025-10-19T13:27:38.917021Z"
    }
   },
   "outputs": [
    {
     "name": "stdout",
     "output_type": "stream",
     "text": [
      "Unique values in 'cholesterol' col : ['HIGH' 'NORMAL']\n",
      "Unique values in 'bp' col are: ['HIGH' 'LOW' 'NORMAL']\n"
     ]
    }
   ],
   "source": [
    "print(\"Unique values in 'cholesterol' col :\", df['cholesterol'].unique())\n",
    "print(\"Unique values in 'bp' col are:\", df['bp'].unique())"
   ]
  },
  {
   "cell_type": "code",
   "execution_count": 6,
   "id": "4cc0deb11c910860",
   "metadata": {
    "ExecuteTime": {
     "end_time": "2025-10-19T13:27:39.112188Z",
     "start_time": "2025-10-19T13:27:38.972485Z"
    }
   },
   "outputs": [
    {
     "data": {
      "text/plain": [
       "Text(0, 0.5, 'Count')"
      ]
     },
     "execution_count": 6,
     "metadata": {},
     "output_type": "execute_result"
    },
    {
     "data": {
      "image/png": "[encoded data removed]",
      "text/plain": [
       "<Figure size 500x400 with 1 Axes>"
      ]
     },
     "metadata": {},
     "output_type": "display_data"
    }
   ],
   "source": [
    "# Plot cholesterol distribution\n",
    "plt.figure(figsize=(5,4))\n",
    "df['cholesterol'].value_counts().plot(kind='bar', color='skyblue', edgecolor='black')\n",
    "plt.title(\"Cholesterol Level Distribution\")\n",
    "plt.xlabel(\"Cholesterol\")\n",
    "plt.ylabel(\"Count\")"
   ]
  },
  {
   "cell_type": "markdown",
   "id": "675ce9e76d17c90c",
   "metadata": {},
   "source": [
    "comment : well distributed"
   ]
  },
  {
   "cell_type": "code",
   "execution_count": 7,
   "id": "2806f152f35e8a34",
   "metadata": {
    "ExecuteTime": {
     "end_time": "2025-10-19T13:27:39.461183Z",
     "start_time": "2025-10-19T13:27:39.158582Z"
    }
   },
   "outputs": [
    {
     "data": {
      "text/plain": [
       "Text(0, 0.5, 'Count')"
      ]
     },
     "execution_count": 7,
     "metadata": {},
     "output_type": "execute_result"
    },
    {
     "data": {
      "image/png": "[encoded data removed]",
      "text/plain": [
       "<Figure size 500x400 with 1 Axes>"
      ]
     },
     "metadata": {},
     "output_type": "display_data"
    }
   ],
   "source": [
    "# Plot blood pressure distribution\n",
    "plt.figure(figsize=(5,4))\n",
    "df['bp'].value_counts().plot(kind='bar', color='lightgreen', edgecolor='black')\n",
    "plt.title(\"Blood Pressure Distribution\")\n",
    "plt.xlabel(\"Blood Pressure\")\n",
    "plt.ylabel(\"Count\")"
   ]
  },
  {
   "cell_type": "markdown",
   "id": "14911ede3ee022f2",
   "metadata": {},
   "source": [
    "comment : well distributed although slightly more samples on 'HIGH'\n"
   ]
  },
  {
   "cell_type": "code",
   "execution_count": 8,
   "id": "cbe2a9a9a171346",
   "metadata": {
    "ExecuteTime": {
     "end_time": "2025-10-19T13:27:40.411374Z",
     "start_time": "2025-10-19T13:27:39.647291Z"
    }
   },
   "outputs": [
    {
     "data": {
      "image/png": "[encoded data removed]",
      "text/plain": [
       "<Figure size 640x480 with 2 Axes>"
      ]
     },
     "metadata": {},
     "output_type": "display_data"
    }
   ],
   "source": [
    "# Age distribution to verify if there are outliers\n",
    "plt.subplot(1, 2, 1)\n",
    "plt.boxplot(df['age'], patch_artist=True)\n",
    "plt.title('Age')\n",
    "plt.ylabel('Value')\n",
    "\n",
    "# Na_to_K distribution to verify if there are outliers\n",
    "plt.subplot(1, 2, 2)\n",
    "plt.boxplot(df['Na_to_K'], patch_artist=True)\n",
    "plt.title('Na_to_K')\n",
    "\n",
    "plt.tight_layout()\n",
    "plt.show()"
   ]
  },
  {
   "cell_type": "markdown",
   "id": "4677c518000592f",
   "metadata": {},
   "source": [
    "comment : for age there are no outliers (expected). For Na_to_k some values are higher than usual but not do not seem like measurement errors so they might actual represent real outliers => we choose to keep them."
   ]
  },
  {
   "cell_type": "markdown",
   "id": "c973552ca1a8cdb3",
   "metadata": {},
   "source": []
  },
  {
   "cell_type": "markdown",
   "id": "d41d9323dd637365",
   "metadata": {},
   "source": [
    "## 1) Feature Engineering\n",
    "We start the pipeline by transforming the format of the following features :\n",
    "\n",
    "- sex : to binary encoding as only 2 options available\n",
    "- bp : this is considered here as ordinal as HIGH > NORMAL > LOW. So ordinal encoder is manually applied\n",
    "- cholesterol : only 2 options are available so we also used binary encoding.\n",
    "\n",
    "A basic feature engineering is done for all 3 to ensure same format when applying manual processing."
   ]
  },
  {
   "cell_type": "code",
   "execution_count": 9,
   "id": "591da08759e41363",
   "metadata": {
    "ExecuteTime": {
     "end_time": "2025-10-19T13:27:40.516368Z",
     "start_time": "2025-10-19T13:27:40.472688Z"
    }
   },
   "outputs": [
    {
     "data": {
      "text/html": [
       "<div>\n",
       "<style scoped>\n",
       "    .dataframe tbody tr th:only-of-type {\n",
       "        vertical-align: middle;\n",
       "    }\n",
       "\n",
       "    .dataframe tbody tr th {\n",
       "        vertical-align: top;\n",
       "    }\n",
       "\n",
       "    .dataframe thead th {\n",
       "        text-align: right;\n",
       "    }\n",
       "</style>\n",
       "<table border=\"1\" class=\"dataframe\">\n",
       "  <thead>\n",
       "    <tr style=\"text-align: right;\">\n",
       "      <th></th>\n",
       "      <th>age</th>\n",
       "      <th>bp</th>\n",
       "      <th>Na_to_K</th>\n",
       "      <th>drug</th>\n",
       "      <th>is_male</th>\n",
       "      <th>is_chol_high</th>\n",
       "    </tr>\n",
       "  </thead>\n",
       "  <tbody>\n",
       "    <tr>\n",
       "      <th>0</th>\n",
       "      <td>23</td>\n",
       "      <td>2</td>\n",
       "      <td>25.355</td>\n",
       "      <td>4</td>\n",
       "      <td>0</td>\n",
       "      <td>1</td>\n",
       "    </tr>\n",
       "    <tr>\n",
       "      <th>1</th>\n",
       "      <td>47</td>\n",
       "      <td>0</td>\n",
       "      <td>13.093</td>\n",
       "      <td>2</td>\n",
       "      <td>1</td>\n",
       "      <td>1</td>\n",
       "    </tr>\n",
       "  </tbody>\n",
       "</table>\n",
       "</div>"
      ],
      "text/plain": [
       "   age  bp  Na_to_K  drug  is_male  is_chol_high\n",
       "0   23   2   25.355     4        0             1\n",
       "1   47   0   13.093     2        1             1"
      ]
     },
     "execution_count": 9,
     "metadata": {},
     "output_type": "execute_result"
    }
   ],
   "source": [
    "# 'sex' feature only has two options => binary encoding\n",
    "# clean the variable and ensure format first\n",
    "df['sex'] = df['sex'].astype(str).str.strip().str.upper()\n",
    "df['is_male'] = df['sex'].map({'F': 0, 'M': 1}).astype('int8')\n",
    "\n",
    "# 'cholesterol' feature only has two options => binary encoding\n",
    "# clean the variable and ensure format first\n",
    "df['cholesterol'] = df['cholesterol'].astype(str).str.strip().str.upper()\n",
    "df['is_chol_high'] = (df['cholesterol'] == 'HIGH').astype('int8')\n",
    "\n",
    "# encode 'bp' as ordinal (LOW < NORMAL < HIGH)\n",
    "# clean the variable and ensure format first\n",
    "df['bp'] = df['bp'].astype(str).str.strip().str.upper()\n",
    "bp_mapping = {'LOW': 0, 'NORMAL': 1, 'HIGH': 2}\n",
    "df['bp'] = df['bp'].map(bp_mapping).astype('int8')\n",
    "\n",
    "# drug as label encoder => classification output so ok, no need to OHE\n",
    "le_drug = LabelEncoder()\n",
    "df['drug'] = le_drug.fit_transform(df['drug']).astype('int16')\n",
    "\n",
    "# Drop old categorical columns\n",
    "df = df.drop(columns=['sex', 'cholesterol'])\n",
    "\n",
    "df.head(2)"
   ]
  },
  {
   "cell_type": "markdown",
   "id": "e06e807ce0df5dfd",
   "metadata": {},
   "source": [
    "### 1.2) Application of normalization\n",
    "\n",
    "Very important step, considering the future model we are using is KNN, a distance based model.\n",
    "\n",
    "- Age : MinMaxScaler used because the range is known in advance and no outliers as seen during the quick eda done.\n",
    "- Na_to_K : scaled with StandardScaler because it contains outliers and a skewed distribution.\n",
    "\n"
   ]
  },
  {
   "cell_type": "code",
   "execution_count": 10,
   "id": "e5524a531fb07488",
   "metadata": {
    "ExecuteTime": {
     "end_time": "2025-10-19T13:27:40.773071Z",
     "start_time": "2025-10-19T13:27:40.727483Z"
    }
   },
   "outputs": [
    {
     "data": {
      "text/html": [
       "<div>\n",
       "<style scoped>\n",
       "    .dataframe tbody tr th:only-of-type {\n",
       "        vertical-align: middle;\n",
       "    }\n",
       "\n",
       "    .dataframe tbody tr th {\n",
       "        vertical-align: top;\n",
       "    }\n",
       "\n",
       "    .dataframe thead th {\n",
       "        text-align: right;\n",
       "    }\n",
       "</style>\n",
       "<table border=\"1\" class=\"dataframe\">\n",
       "  <thead>\n",
       "    <tr style=\"text-align: right;\">\n",
       "      <th></th>\n",
       "      <th>age</th>\n",
       "      <th>bp</th>\n",
       "      <th>Na_to_K</th>\n",
       "      <th>drug</th>\n",
       "      <th>is_male</th>\n",
       "      <th>is_chol_high</th>\n",
       "    </tr>\n",
       "  </thead>\n",
       "  <tbody>\n",
       "    <tr>\n",
       "      <th>0</th>\n",
       "      <td>0.135593</td>\n",
       "      <td>2</td>\n",
       "      <td>1.286522</td>\n",
       "      <td>4</td>\n",
       "      <td>0</td>\n",
       "      <td>1</td>\n",
       "    </tr>\n",
       "    <tr>\n",
       "      <th>1</th>\n",
       "      <td>0.542373</td>\n",
       "      <td>0</td>\n",
       "      <td>-0.415145</td>\n",
       "      <td>2</td>\n",
       "      <td>1</td>\n",
       "      <td>1</td>\n",
       "    </tr>\n",
       "    <tr>\n",
       "      <th>2</th>\n",
       "      <td>0.542373</td>\n",
       "      <td>0</td>\n",
       "      <td>-0.828558</td>\n",
       "      <td>2</td>\n",
       "      <td>1</td>\n",
       "      <td>1</td>\n",
       "    </tr>\n",
       "  </tbody>\n",
       "</table>\n",
       "</div>"
      ],
      "text/plain": [
       "        age  bp   Na_to_K  drug  is_male  is_chol_high\n",
       "0  0.135593   2  1.286522     4        0             1\n",
       "1  0.542373   0 -0.415145     2        1             1\n",
       "2  0.542373   0 -0.828558     2        1             1"
      ]
     },
     "execution_count": 10,
     "metadata": {},
     "output_type": "execute_result"
    }
   ],
   "source": [
    "scaler_age = MinMaxScaler()\n",
    "scaler_nak = StandardScaler()\n",
    "\n",
    "df['age'] = scaler_age.fit_transform(df[['age']])\n",
    "df['Na_to_K'] = scaler_nak.fit_transform(df[['Na_to_K']])\n",
    "\n",
    "df.head(3)"
   ]
  },
  {
   "cell_type": "code",
   "execution_count": 11,
   "id": "477b861b",
   "metadata": {
    "ExecuteTime": {
     "end_time": "2025-10-19T13:27:40.977194Z",
     "start_time": "2025-10-19T13:27:40.963318Z"
    }
   },
   "outputs": [],
   "source": [
    "X = df.drop(columns=[\"drug\"])\n",
    "y = df[\"drug\"]"
   ]
  },
  {
   "cell_type": "code",
   "execution_count": 12,
   "id": "bd623588",
   "metadata": {
    "ExecuteTime": {
     "end_time": "2025-10-19T13:27:41.366080Z",
     "start_time": "2025-10-19T13:27:41.320217Z"
    }
   },
   "outputs": [
    {
     "data": {
      "text/html": [
       "<div>\n",
       "<style scoped>\n",
       "    .dataframe tbody tr th:only-of-type {\n",
       "        vertical-align: middle;\n",
       "    }\n",
       "\n",
       "    .dataframe tbody tr th {\n",
       "        vertical-align: top;\n",
       "    }\n",
       "\n",
       "    .dataframe thead th {\n",
       "        text-align: right;\n",
       "    }\n",
       "</style>\n",
       "<table border=\"1\" class=\"dataframe\">\n",
       "  <thead>\n",
       "    <tr style=\"text-align: right;\">\n",
       "      <th></th>\n",
       "      <th>age</th>\n",
       "      <th>bp</th>\n",
       "      <th>Na_to_K</th>\n",
       "      <th>is_male</th>\n",
       "      <th>is_chol_high</th>\n",
       "    </tr>\n",
       "  </thead>\n",
       "  <tbody>\n",
       "    <tr>\n",
       "      <th>196</th>\n",
       "      <td>0.016949</td>\n",
       "      <td>0</td>\n",
       "      <td>-0.565995</td>\n",
       "      <td>1</td>\n",
       "      <td>1</td>\n",
       "    </tr>\n",
       "    <tr>\n",
       "      <th>134</th>\n",
       "      <td>0.457627</td>\n",
       "      <td>2</td>\n",
       "      <td>0.687150</td>\n",
       "      <td>0</td>\n",
       "      <td>1</td>\n",
       "    </tr>\n",
       "  </tbody>\n",
       "</table>\n",
       "</div>"
      ],
      "text/plain": [
       "          age  bp   Na_to_K  is_male  is_chol_high\n",
       "196  0.016949   0 -0.565995        1             1\n",
       "134  0.457627   2  0.687150        0             1"
      ]
     },
     "execution_count": 12,
     "metadata": {},
     "output_type": "execute_result"
    }
   ],
   "source": [
    "# stratify here ensures that the class proportions in the train and test sets are the same as in the original dataset \n",
    "# which are not proportionally ...\n",
    "X_train, X_test, y_train, y_test = train_test_split(X, y, test_size=0.2, random_state=42, stratify=y)\n",
    "X_train.head(2)"
   ]
  },
  {
   "cell_type": "markdown",
   "id": "19d928638d0e5c47",
   "metadata": {},
   "source": [
    "## 2) Model Tuning\n",
    "Training strategy for KNN:\n",
    "- split : cross validation of 5 splits\n",
    "- objectif : tuning parameter k of knn\n",
    "\n",
    "Problems to be expected: as seen, some 'y' classes are less represented in the ds, even if stratified split."
   ]
  },
  {
   "cell_type": "code",
   "execution_count": 13,
   "id": "cf179691a0d71d70",
   "metadata": {
    "ExecuteTime": {
     "end_time": "2025-10-19T13:27:41.737466Z",
     "start_time": "2025-10-19T13:27:41.728766Z"
    }
   },
   "outputs": [],
   "source": [
    "k_values = [4, 5, 6, 7, 8, 9]\n",
    "models = []\n",
    "n_splits = 5"
   ]
  },
  {
   "cell_type": "code",
   "execution_count": 14,
   "id": "3d756636",
   "metadata": {
    "ExecuteTime": {
     "end_time": "2025-10-19T13:27:43.949437Z",
     "start_time": "2025-10-19T13:27:42.861701Z"
    }
   },
   "outputs": [
    {
     "name": "stdout",
     "output_type": "stream",
     "text": [
      " => Evaluating KNN with k=4\n",
      " => the fold 1 : F1=0.8078, Precision=0.8875, Recall=0.8000, Accuracy=0.8000\n",
      " => the fold 2 : F1=0.8044, Precision=0.8788, Recall=0.8238, Accuracy=0.8238\n",
      " => the fold 3 : F1=0.7600, Precision=0.7333, Recall=0.8000, Accuracy=0.8000\n",
      " => the fold 4 : F1=0.6934, Precision=0.6770, Recall=0.8067, Accuracy=0.8067\n",
      " => the fold 5 : F1=0.6816, Precision=0.6803, Recall=0.6933, Accuracy=0.6933\n",
      " Mean of the k=4: F1=0.7495, Precision=0.7714, Recall=0.7848 Acc=0.7848\n",
      " => Evaluating KNN with k=5\n",
      " => the fold 1 : F1=0.7867, Precision=0.8667, Recall=0.7867, Accuracy=0.7867\n",
      " => the fold 2 : F1=0.6899, Precision=0.6597, Recall=0.7571, Accuracy=0.7571\n",
      " => the fold 3 : F1=0.7333, Precision=0.7200, Recall=0.7500, Accuracy=0.7500\n",
      " => the fold 4 : F1=0.7613, Precision=0.7400, Recall=0.8467, Accuracy=0.8467\n",
      " => the fold 5 : F1=0.7878, Precision=0.7836, Recall=0.8267, Accuracy=0.8267\n",
      " Mean of the k=5: F1=0.7518, Precision=0.7540, Recall=0.7934 Acc=0.7934\n",
      " => Evaluating KNN with k=6\n",
      " => the fold 1 : F1=0.8078, Precision=0.8875, Recall=0.8000, Accuracy=0.8000\n",
      " => the fold 2 : F1=0.6899, Precision=0.6597, Recall=0.7571, Accuracy=0.7571\n",
      " => the fold 3 : F1=0.7600, Precision=0.7333, Recall=0.8000, Accuracy=0.8000\n",
      " => the fold 4 : F1=0.8415, Precision=0.8200, Recall=0.9333, Accuracy=0.9333\n",
      " => the fold 5 : F1=0.8625, Precision=0.8470, Recall=0.8933, Accuracy=0.8933\n",
      " Mean of the k=6: F1=0.7924, Precision=0.7895, Recall=0.8368 Acc=0.8368\n",
      " => Evaluating KNN with k=7\n",
      " => the fold 1 : F1=0.8078, Precision=0.8875, Recall=0.8000, Accuracy=0.8000\n",
      " => the fold 2 : F1=0.7339, Precision=0.6968, Recall=0.7857, Accuracy=0.7857\n",
      " => the fold 3 : F1=0.7600, Precision=0.7333, Recall=0.8000, Accuracy=0.8000\n",
      " => the fold 4 : F1=0.8235, Precision=0.8133, Recall=0.9100, Accuracy=0.9100\n",
      " => the fold 5 : F1=0.9466, Precision=0.9300, Recall=0.9733, Accuracy=0.9733\n",
      " Mean of the k=7: F1=0.8144, Precision=0.8122, Recall=0.8538 Acc=0.8538\n",
      " => Evaluating KNN with k=8\n",
      " => the fold 1 : F1=0.8869, Precision=0.9208, Recall=0.8667, Accuracy=0.8667\n",
      " => the fold 2 : F1=0.7413, Precision=0.7057, Recall=0.7857, Accuracy=0.7857\n",
      " => the fold 3 : F1=0.7600, Precision=0.7333, Recall=0.8000, Accuracy=0.8000\n",
      " => the fold 4 : F1=0.8543, Precision=0.8436, Recall=0.9333, Accuracy=0.9333\n",
      " => the fold 5 : F1=0.9292, Precision=0.9136, Recall=0.9600, Accuracy=0.9600\n",
      " Mean of the k=8: F1=0.8343, Precision=0.8234, Recall=0.8691 Acc=0.8691\n",
      " => Evaluating KNN with k=9\n",
      " => the fold 1 : F1=0.8869, Precision=0.9208, Recall=0.8667, Accuracy=0.8667\n",
      " => the fold 2 : F1=0.7339, Precision=0.6968, Recall=0.7857, Accuracy=0.7857\n",
      " => the fold 3 : F1=0.7600, Precision=0.7333, Recall=0.8000, Accuracy=0.8000\n",
      " => the fold 4 : F1=0.9006, Precision=0.8800, Recall=0.9600, Accuracy=0.9600\n",
      " => the fold 5 : F1=0.8852, Precision=0.9000, Recall=0.9067, Accuracy=0.9067\n",
      " Mean of the k=9: F1=0.8333, Precision=0.8262, Recall=0.8638 Acc=0.8638\n",
      "\n",
      "   Summary of Cross-Validation Results \n",
      "k=4: mean F1=0.7495, Precision=0.7714, Recall=0.7848, Acc=0.7848\n",
      "k=5: mean F1=0.7518, Precision=0.7540, Recall=0.7934, Acc=0.7934\n",
      "k=6: mean F1=0.7924, Precision=0.7895, Recall=0.8368, Acc=0.8368\n",
      "k=7: mean F1=0.8144, Precision=0.8122, Recall=0.8538, Acc=0.8538\n",
      "k=8: mean F1=0.8343, Precision=0.8234, Recall=0.8691, Acc=0.8691\n",
      "k=9: mean F1=0.8333, Precision=0.8262, Recall=0.8638, Acc=0.8638\n"
     ]
    },
    {
     "name": "stderr",
     "output_type": "stream",
     "text": [
      "/Users/pellandini/Documents/Master/Semestre 3/MachLe/.venv/lib/python3.13/site-packages/sklearn/metrics/_classification.py:1731: UndefinedMetricWarning: Precision is ill-defined and being set to 0.0 in labels with no predicted samples. Use `zero_division` parameter to control this behavior.\n",
      "  _warn_prf(average, modifier, f\"{metric.capitalize()} is\", result.shape[0])\n",
      "/Users/pellandini/Documents/Master/Semestre 3/MachLe/.venv/lib/python3.13/site-packages/sklearn/metrics/_classification.py:1731: UndefinedMetricWarning: Precision is ill-defined and being set to 0.0 in labels with no predicted samples. Use `zero_division` parameter to control this behavior.\n",
      "  _warn_prf(average, modifier, f\"{metric.capitalize()} is\", result.shape[0])\n",
      "/Users/pellandini/Documents/Master/Semestre 3/MachLe/.venv/lib/python3.13/site-packages/sklearn/metrics/_classification.py:1731: UndefinedMetricWarning: Precision is ill-defined and being set to 0.0 in labels with no predicted samples. Use `zero_division` parameter to control this behavior.\n",
      "  _warn_prf(average, modifier, f\"{metric.capitalize()} is\", result.shape[0])\n",
      "/Users/pellandini/Documents/Master/Semestre 3/MachLe/.venv/lib/python3.13/site-packages/sklearn/metrics/_classification.py:1731: UndefinedMetricWarning: Precision is ill-defined and being set to 0.0 in labels with no predicted samples. Use `zero_division` parameter to control this behavior.\n",
      "  _warn_prf(average, modifier, f\"{metric.capitalize()} is\", result.shape[0])\n",
      "/Users/pellandini/Documents/Master/Semestre 3/MachLe/.venv/lib/python3.13/site-packages/sklearn/metrics/_classification.py:1731: UndefinedMetricWarning: Precision is ill-defined and being set to 0.0 in labels with no predicted samples. Use `zero_division` parameter to control this behavior.\n",
      "  _warn_prf(average, modifier, f\"{metric.capitalize()} is\", result.shape[0])\n",
      "/Users/pellandini/Documents/Master/Semestre 3/MachLe/.venv/lib/python3.13/site-packages/sklearn/metrics/_classification.py:1731: UndefinedMetricWarning: Precision is ill-defined and being set to 0.0 in labels with no predicted samples. Use `zero_division` parameter to control this behavior.\n",
      "  _warn_prf(average, modifier, f\"{metric.capitalize()} is\", result.shape[0])\n",
      "/Users/pellandini/Documents/Master/Semestre 3/MachLe/.venv/lib/python3.13/site-packages/sklearn/metrics/_classification.py:1731: UndefinedMetricWarning: Precision is ill-defined and being set to 0.0 in labels with no predicted samples. Use `zero_division` parameter to control this behavior.\n",
      "  _warn_prf(average, modifier, f\"{metric.capitalize()} is\", result.shape[0])\n",
      "/Users/pellandini/Documents/Master/Semestre 3/MachLe/.venv/lib/python3.13/site-packages/sklearn/metrics/_classification.py:1731: UndefinedMetricWarning: Precision is ill-defined and being set to 0.0 in labels with no predicted samples. Use `zero_division` parameter to control this behavior.\n",
      "  _warn_prf(average, modifier, f\"{metric.capitalize()} is\", result.shape[0])\n",
      "/Users/pellandini/Documents/Master/Semestre 3/MachLe/.venv/lib/python3.13/site-packages/sklearn/metrics/_classification.py:1731: UndefinedMetricWarning: Precision is ill-defined and being set to 0.0 in labels with no predicted samples. Use `zero_division` parameter to control this behavior.\n",
      "  _warn_prf(average, modifier, f\"{metric.capitalize()} is\", result.shape[0])\n",
      "/Users/pellandini/Documents/Master/Semestre 3/MachLe/.venv/lib/python3.13/site-packages/sklearn/metrics/_classification.py:1731: UndefinedMetricWarning: Precision is ill-defined and being set to 0.0 in labels with no predicted samples. Use `zero_division` parameter to control this behavior.\n",
      "  _warn_prf(average, modifier, f\"{metric.capitalize()} is\", result.shape[0])\n"
     ]
    }
   ],
   "source": [
    "skf = StratifiedKFold(n_splits=n_splits, shuffle=True, random_state=0)\n",
    "results = {}  # store metrics for each k\n",
    "\n",
    "# for each k of knn model store different metrics to better understand which k to choose\n",
    "for k in k_values:\n",
    "    print(f\" => Evaluating KNN with k={k}\")\n",
    "\n",
    "    f1_scores = []\n",
    "    prec_scores = []\n",
    "    rec_scores = []\n",
    "    acc_scores = []\n",
    "\n",
    "    knn = KNeighborsClassifier(n_neighbors=k)\n",
    "\n",
    "    for fold, (train_idx, val_idx) in enumerate(skf.split(X_train, y_train), start=1):\n",
    "        # get the random chosen splits\n",
    "        X_tr, X_val = X_train.iloc[train_idx], X_train.iloc[val_idx]\n",
    "        y_tr, y_val = y_train.iloc[train_idx], y_train.iloc[val_idx]\n",
    "\n",
    "        # train and test model on the val set\n",
    "        knn.fit(X_tr, y_tr)\n",
    "        y_pred = knn.predict(X_val)\n",
    "\n",
    "        # Compute metrics (macro average means that all classes equally weight the scores)\n",
    "        f1 = f1_score(y_val, y_pred, average='macro')\n",
    "        prec = precision_score(y_val, y_pred, average='macro')\n",
    "        rec = recall_score(y_val, y_pred, average='macro')\n",
    "        acc = balanced_accuracy_score(y_val, y_pred)\n",
    "\n",
    "        f1_scores.append(f1)\n",
    "        prec_scores.append(prec)\n",
    "        rec_scores.append(rec)\n",
    "        acc_scores.append(acc)\n",
    "\n",
    "        print(f\" => the fold {fold} : F1={f1:.4f}, Precision={prec:.4f}, Recall={rec:.4f}, Accuracy={acc:.4f}\")\n",
    "\n",
    "    # Store results for this k\n",
    "    results[k] = {\n",
    "        'f1': f1_scores,\n",
    "        'precision': prec_scores,\n",
    "        'recall': rec_scores,\n",
    "        'acc': acc_scores\n",
    "    }\n",
    "\n",
    "    print(f\" Mean of the k={k}: \"\n",
    "          f\"F1={np.mean(f1_scores):.4f}, \"\n",
    "          f\"Precision={np.mean(prec_scores):.4f}, \"\n",
    "          f\"Recall={np.mean(rec_scores):.4f}\",\n",
    "          f\"Acc={np.mean(acc_scores):.4f}\")\n",
    "\n",
    "# print averages \n",
    "print(\"\")\n",
    "print(\"   Summary of Cross-Validation Results \")\n",
    "for k, metrics_dict in results.items():\n",
    "    f1_mean = np.mean(metrics_dict['f1'])\n",
    "    prec_mean = np.mean(metrics_dict['precision'])\n",
    "    rec_mean = np.mean(metrics_dict['recall'])\n",
    "    acc = np.mean(metrics_dict['acc'])\n",
    "    print(f\"k={k}: mean F1={f1_mean:.4f}, Precision={prec_mean:.4f}, Recall={rec_mean:.4f}, Acc={acc:.4f}\")\n"
   ]
  },
  {
   "cell_type": "markdown",
   "id": "34e82bdcc4b01315",
   "metadata": {},
   "source": [
    "Comments : \n",
    "\n",
    "- The warning means that some classes were never predicted. This is likely because KNN is sensitive to class imbalance => when there are too few samples for a class, it struggles to recognize and predict them as there are few neighbours\n",
    "- K=7 appears to work best\n",
    "- Evaluation on validation set might be dangerous because there are not many samples in the dataset (and we are using -20% that were cut for test set)"
   ]
  },
  {
   "cell_type": "markdown",
   "id": "e2cfcfae1863c615",
   "metadata": {},
   "source": [
    "## 3) Evaluation using Test Set"
   ]
  },
  {
   "cell_type": "code",
   "execution_count": 15,
   "id": "9012e242ebc1160d",
   "metadata": {
    "ExecuteTime": {
     "end_time": "2025-10-19T13:27:44.362486Z",
     "start_time": "2025-10-19T13:27:43.970093Z"
    }
   },
   "outputs": [
    {
     "name": "stdout",
     "output_type": "stream",
     "text": [
      "=>  Evaluation Metrics on the test set\n",
      "  Balanced Accuracy : 0.8018181818181818\n",
      "  Macro Precision   : 0.7675\n",
      "  Macro Recall      : 0.8018181818181818\n",
      "  Macro F1-score    : 0.7760376878023936\n",
      "  Accuracy (global) : 0.825\n"
     ]
    },
    {
     "data": {
      "text/plain": [
       "<sklearn.metrics._plot.confusion_matrix.ConfusionMatrixDisplay at 0x13870bcb0>"
      ]
     },
     "execution_count": 15,
     "metadata": {},
     "output_type": "execute_result"
    },
    {
     "data": {
      "image/png": "[encoded data removed]",
      "text/plain": [
       "<Figure size 640x480 with 2 Axes>"
      ]
     },
     "metadata": {},
     "output_type": "display_data"
    }
   ],
   "source": [
    "from sklearn.metrics import accuracy_score\n",
    "\n",
    "# Final model with best K\n",
    "knn = KNeighborsClassifier(n_neighbors=7)\n",
    "knn.fit(X_train, y_train)\n",
    "\n",
    "# Predictions\n",
    "y_pred = knn.predict(X_test)\n",
    "\n",
    "# Metrics (macro = equal weight to each class)\n",
    "f1 = f1_score(y_test, y_pred, average='macro', zero_division=0)\n",
    "prec = precision_score(y_test, y_pred, average='macro', zero_division=0)\n",
    "rec = recall_score(y_test, y_pred, average='macro', zero_division=0)\n",
    "acc_balanced = balanced_accuracy_score(y_test, y_pred)\n",
    "acc = accuracy_score(y_test, y_pred)\n",
    "\n",
    "# Print metrics cleanly\n",
    "print(\"=>  Evaluation Metrics on the test set\")\n",
    "print(f\"  Balanced Accuracy : {acc_balanced}\")\n",
    "print(f\"  Macro Precision   : {prec}\")\n",
    "print(f\"  Macro Recall      : {rec}\")\n",
    "print(f\"  Macro F1-score    : {f1}\")\n",
    "print(f\"  Accuracy (global) : {acc}\")\n",
    "\n",
    "\n",
    "# Confusion matrix\n",
    "cm = confusion_matrix(y_test, y_pred)\n",
    "disp = ConfusionMatrixDisplay(confusion_matrix=cm, display_labels=knn.classes_)\n",
    "disp.plot(cmap=\"Blues\", xticks_rotation=45)"
   ]
  },
  {
   "cell_type": "markdown",
   "id": "54ebea90ca273573",
   "metadata": {},
   "source": [
    "## Observations\n",
    "\n",
    "In this exercise, our group explored various feature engineering techniques. The model achieved an accuracy of around 80%, which is a reasonable result given that we used KNN, a model particularly sensitive to class imbalance (as the target variable y is not evenly distributed).\n",
    "To further improve performance, we could generate additional data for the minority classes, or, if more real data were available, ensure a more balanced dataset during training by simply picking only the minimum count for all 'y'."
   ]
  }
 ],
 "metadata": {
  "kernelspec": {
   "display_name": ".venv",
   "language": "python",
   "name": "python3"
  },
  "language_info": {
   "codemirror_mode": {
    "name": "ipython",
    "version": 3
   },
   "file_extension": ".py",
   "mimetype": "text/x-python",
   "name": "python",
   "nbconvert_exporter": "python",
   "pygments_lexer": "ipython3",
   "version": "3.13.7"
  }
 },
 "nbformat": 4,
 "nbformat_minor": 5
}
