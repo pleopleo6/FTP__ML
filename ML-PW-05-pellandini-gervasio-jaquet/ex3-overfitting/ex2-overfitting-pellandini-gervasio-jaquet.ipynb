{
 "cells": [
  {
   "cell_type": "markdown",
   "metadata": {},
   "source": [
    "# Exercise 3 - Linear regression optimisation"
   ]
  },
  {
   "cell_type": "code",
   "execution_count": null,
   "metadata": {
    "pycharm": {
     "is_executing": false,
     "name": "#%%\n"
    }
   },
   "outputs": [],
   "source": [
    "import numpy as np\n",
    "import matplotlib.pyplot as plt\n",
    "import pandas as pd"
   ]
  },
  {
   "cell_type": "markdown",
   "metadata": {},
   "source": [
    "a) Read the data in separate variables for the training and test sets."
   ]
  },
  {
   "cell_type": "code",
   "execution_count": null,
   "metadata": {
    "pycharm": {
     "is_executing": false,
     "name": "#%%\n"
    }
   },
   "outputs": [],
   "source": [
    "dataset_train = pd.read_csv('overfitting_train.csv')\n",
    "dataset_test = pd.read_csv('overfitting_test.csv')"
   ]
  },
  {
   "cell_type": "code",
   "execution_count": null,
   "metadata": {},
   "outputs": [],
   "source": [
    "dataset_train.head()"
   ]
  },
  {
   "cell_type": "code",
   "execution_count": null,
   "metadata": {},
   "outputs": [],
   "source": [
    "X_train = dataset_train['x'].values\n",
    "y_train = dataset_train['y'].values\n",
    "X_test = dataset_test['x'].values\n",
    "y_test = dataset_test['y'].values"
   ]
  },
  {
   "cell_type": "code",
   "execution_count": null,
   "metadata": {},
   "outputs": [],
   "source": [
    "plt.figure(figsize=(12,6))\n",
    "plt.grid(alpha=0.5)\n",
    "plt.scatter(X_train, y_train)\n",
    "plt.scatter(X_test, y_test)\n",
    "plt.legend(['train', 'test']);"
   ]
  },
  {
   "cell_type": "markdown",
   "metadata": {},
   "source": [
    "b) Define a cost function\n",
    "$J(θ)$\n",
    "that will allow you to compute the cost on the training and\n",
    "cross-validation sets.\n",
    "\n",
    "\n",
    "$$J(\\theta) = \\frac{1}{2N} \\sum_{n=1}^{N} (h_{\\theta}(\\mathbf{x}_{n}) - y_{n})^{2}$$\n",
    "\n",
    "where $h_{\\theta}(\\mathbf{x}_{n})$ is your prediction."
   ]
  },
  {
   "cell_type": "code",
   "execution_count": null,
   "metadata": {
    "pycharm": {
     "is_executing": false,
     "name": "#%%\n"
    }
   },
   "outputs": [],
   "source": [
    "def compute_cost(y_pred, y_true):\n",
    "    N = y_pred.shape[0]\n",
    "    return (1.0 / (2.0 * N)) * np.sum((y_pred - y_true)**2)"
   ]
  },
  {
   "cell_type": "markdown",
   "metadata": {},
   "source": [
    "c) Perform the training for increasing orders $O= 1 ,..., 10$.\n",
    "\n",
    "You can use any training method developed in the previous practical work. Using the [normal equation](http://mlwiki.org/index.php/Normal_Equation) is probably the easiest choice."
   ]
  },
  {
   "cell_type": "code",
   "execution_count": null,
   "metadata": {
    "pycharm": {
     "is_executing": false,
     "name": "#%%\n"
    }
   },
   "outputs": [],
   "source": [
    "# TODO: implement the training method. The pseudo-code here is mostly for the normal equation. Adapt to your needs.\n",
    "\n",
    "def fit(X_train: np.array, y_train: np.array, order: float) -> np.array:\n",
    "    X_design = ...\n",
    "    thetas = ...\n",
    "    return thetas\n",
    "\n",
    "def predict(thetas: np.array, X: np.array) -> np.array:\n",
    "    y_pred = 0\n",
    "    ... # probably loop over the thetas...\n",
    "    return y_pred"
   ]
  },
  {
   "cell_type": "code",
   "execution_count": null,
   "metadata": {
    "pycharm": {
     "is_executing": false,
     "name": "#%%\n"
    }
   },
   "outputs": [],
   "source": [
    "plt.figure(figsize=(12,6))\n",
    "plt.grid(alpha=0.5)\n",
    "plt.scatter(X_train, y_train)\n",
    "plt.scatter(X_test, y_test)\n",
    "\n",
    "...\n",
    "\n",
    "train_cost_curve = []\n",
    "test_cost_curve = []\n",
    "for order in range(10):\n",
    "    ...\n",
    "    \n",
    "    # Test on train set\n",
    "    ...\n",
    "    \n",
    "    # Test on test set\n",
    "    ...\n",
    "\n",
    "    print(f\"Order={order}; cost on train set: {cost_train:.2f}; cost on test set: {cost_test:.2f}\")\n",
    "\n",
    "\n",
    "plt.legend([f\"Order {i}\" for i in range(10)]);"
   ]
  },
  {
   "cell_type": "markdown",
   "metadata": {},
   "source": [
    "e) Plot the evolution of the costs\n",
    "$J_{train}(θ)$ and $J_{cv}(θ)$\n",
    "as a function of the order O."
   ]
  },
  {
   "cell_type": "code",
   "execution_count": null,
   "metadata": {
    "pycharm": {
     "is_executing": false,
     "name": "#%%\n"
    }
   },
   "outputs": [],
   "source": [
    "plt.figure(figsize=(12,6))\n",
    "plt.grid(alpha=0.5)\n",
    "plt.plot(train_cost_curve)\n",
    "plt.plot(test_cost_curve)\n",
    "plt.ylim(-3, 15)\n",
    "plt.legend(['train', 'test']);\n",
    "\n",
    "# TODO: or adapt to your own method of costs computation"
   ]
  },
  {
   "cell_type": "markdown",
   "metadata": {},
   "source": [
    "**f) What is your best model according to these costs ? Comment your answer.**"
   ]
  },
  {
   "cell_type": "markdown",
   "metadata": {},
   "source": [
    "TODO: answer"
   ]
  },
  {
   "cell_type": "markdown",
   "metadata": {},
   "source": [
    "**g) Would you still choose the model with the lowest cost for production?**"
   ]
  },
  {
   "cell_type": "markdown",
   "metadata": {},
   "source": [
    "TODO: answer"
   ]
  },
  {
   "cell_type": "markdown",
   "metadata": {
    "pycharm": {
     "name": "#%%\n"
    }
   },
   "source": [
    "**h) Explain how under/over-fitting is involved here.**"
   ]
  },
  {
   "cell_type": "markdown",
   "metadata": {},
   "source": [
    "TODO: answer"
   ]
  }
 ],
 "metadata": {
  "kernelspec": {
   "display_name": "Python 3 (ipykernel)",
   "language": "python",
   "name": "python3"
  },
  "language_info": {
   "codemirror_mode": {
    "name": "ipython",
    "version": 3
   },
   "file_extension": ".py",
   "mimetype": "text/x-python",
   "name": "python",
   "nbconvert_exporter": "python",
   "pygments_lexer": "ipython3",
   "version": "3.8.7"
  },
  "pycharm": {
   "stem_cell": {
    "cell_type": "raw",
    "metadata": {
     "collapsed": false
    },
    "source": []
   }
  }
 },
 "nbformat": 4,
 "nbformat_minor": 1
}
