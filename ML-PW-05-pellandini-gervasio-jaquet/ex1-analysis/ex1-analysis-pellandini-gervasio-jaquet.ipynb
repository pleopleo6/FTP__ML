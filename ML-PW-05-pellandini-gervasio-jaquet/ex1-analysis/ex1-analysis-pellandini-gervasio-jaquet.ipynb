{
 "cells": [
  {
   "cell_type": "markdown",
   "id": "33b31583",
   "metadata": {},
   "source": [
    "# Exercise 1 - Analysis"
   ]
  },
  {
   "cell_type": "markdown",
   "id": "6e188fec",
   "metadata": {},
   "source": [
    "## Students : Leo Pellandini, Steven Jaquet et André Quintas Gervasio"
   ]
  },
  {
   "cell_type": "markdown",
   "id": "51225f27",
   "metadata": {},
   "source": [
    "The bank UBS is offering the possibility to invest money in investment funds. A fund is composed of financial values such as stocks or bonds. For example, a fund composed mostly of stocks has more return potential but is more risky in case of stock market recession. There are thousands of funds available, see https://fundgate.ubs.com/. The probability to invest or not in a fund is conditioned by the profile of the fund and of the client. For example, a younger client with no child is potentially more interested into funds composed with stocks, showing higher risks but also higher potential returns. A family father will be more inclined to invest into low-risk funds. UBS want to build a system as illustrated on Figure~\\ref{fig:ubs_system}, taking as input a set of values characterizing the fund and the client profile.\n",
    "\n",
    "An investment fund can be characterized by the following elements: \n",
    "\n",
    "- The name of the fund.\n",
    "- The current value of 1 share in the fund, expressed in CHF.\n",
    "- The proportion of stock and bonds composing the fund (2 values in percentage).\n",
    "- A vector of float values with the 5 last yearly returns over years from 2015 to 2019 (5 values expressed in percentage).\n",
    "- A level of risk expressed with A, B, C, D, E with A representing the highest risk and E representing the lowest risk level.\n",
    "- A sectorial information such as technology, pharmaceutical, financial. There are 24 different sectors available in UBS funds.\n",
    "-  As the set of funds are worldwide, the emiting location is also available with the address of the managing entity of the fund, e.g. Market Street 1234, New York, USA.\n",
    "\n",
    "A client profile contains the following information: \n",
    "\n",
    "- First name and last name of the client.\n",
    "- The mother tongue of the client (mostly de, fr, it and en but other languages are present).\n",
    "- The age of the client.\n",
    "- The number of children of the client.\n",
    "- The current wealth of the client that could be used to buy funds, expressed in CHF (total of cash available in the different accounts, not yet invested in funds).\n",
    "- The postal code of the address of the client.\n",
    "- A level of acceptance to risk expressed with A, B, C, D, E with A representing the highest level of acceptance of risk and E representing the lowest acceptance of risk.\n",
    "\n",
    "Answer the following questions:\n",
    "\n",
    "1. For each available information in the fund and client profile, explain how you would prepare the data: encoding, normalization, outlier treatment, etc.\n",
    "2. How could you collect targets (output of the system) to train the system? How would you prepare the different sets?\n",
    "\n",
    "**Be as comprehensive as possible.**  Don't limit your explanation to the \"how\" but also the \"why\"."
   ]
  },
  {
   "cell_type": "markdown",
   "id": "7cb6b792",
   "metadata": {},
   "source": [
    "---"
   ]
  },
  {
   "cell_type": "markdown",
   "id": "16f4c4b4",
   "metadata": {},
   "source": [
    "**For each available information in the fund and client profile, explain why and how you would prepare the data: encoding, normalization, outlier treatment, etc.**"
   ]
  },
  {
   "cell_type": "markdown",
   "id": "e1527821",
   "metadata": {},
   "source": [
    "### About investment fund:\n",
    "\n",
    "The name of the fund can be ignored for model training since it is not a quantitative piece of information useful for prediction. It can be used as a reference for the results.\n",
    "\n",
    "The numerical value of a share in CHF requires normalization to prevent large values from dominating other features. For example, min-max scaling between 0 and 1 or  using Z-Norm. Check for outliers and exclude them if they are not realistic.\n",
    "\n",
    "Since the percentages of stocks and bonds are already on a standard scale, a min-max normalization can still be applied to keep them bounded between [0, 1]. A verification can be added to ensure that their sum equals 100%.\n",
    "\n",
    "With yearly returns from 2015 to 2019, we have a time series, and the sliding-window method can be used. Methods such as Z-Norm can be applied to handle these values.\n",
    "\n",
    "The risk level (A to E) is an ordinal variable, and an ordinal encoding can be used with these increasing levels, described as follow :\n",
    "\n",
    "<center>\n",
    "\n",
    "    \n",
    "|  Risk        | Encoding     |\n",
    "|---           |--:           |\n",
    "| A            | 5            |\n",
    "| B            | 4            |\n",
    "| C            | 3            |\n",
    "| D            | 2            |\n",
    "| E            | 1            |\n",
    "</center>\n",
    "\n",
    "(\"A\" representing the highest risk => 5)\n",
    "\n",
    "We can do a 1-hot encoding for the sectorial information (no relationship between sectors). There are 24 associations of 1 input for 1 sector.\n",
    "\n",
    "Regarding the emitting locations, using latitude and longitude coordinates are not particularly relevant in this context. Only the country of emission is kept, as more detailed information such as street or city does not directly influence the fund’s performance or risk. A geographical bucketing by region or economic zone can be an interesting option to represent the location of the funds.\n",
    "\n",
    "\n",
    "### About client profile:\n",
    "\n",
    "Once again, it is not necessary to take into account the client's first and last name, as this information is not useful for model training.\n",
    "\n",
    "For the native language (mother tongue), there are four main languages in this context (DE, FR, IT, EN), so we can use a one-hot encoding and add an additional column that groups the other languages.\n",
    "\n",
    "The age has no real outliers, and we can simply apply a min-max scaling between [0, 1].\n",
    "\n",
    "We can process the number of children in the same way as the age. It is important to ensure that there are no excessively high values, which should not be so frequent.\n",
    "\n",
    "The current wealth is the same as the value of one share. There are some extreme values, either low or very high. We need to apply feature clipping and min-max rescaling for this.\n",
    "\n",
    "Handling postal codes should not be a problem, as they are already numerical values and can be used directly without modification. It is only necessary to ensure that they fall within the expected range.\n",
    "\n",
    "As with the risk level of a fund, we can use an ordinal encoding for the risk acceptance levels with this specific encoding :\n",
    "\n",
    "<center>\n",
    "\n",
    "\n",
    "|  Risk        | Encoding     |\n",
    "|---           |--:           |\n",
    "| A            | 5            |\n",
    "| B            | 4            |\n",
    "| C            | 3            |\n",
    "| D            | 2            |\n",
    "| E            | 1            |\n",
    "</center>\n",
    "\n",
    "(\"A\" representing the highest level of acceptance of risk => 5)"
   ]
  },
  {
   "cell_type": "markdown",
   "id": "c386d8fc",
   "metadata": {},
   "source": [
    "**How could you collect targets (output of the system) to train the system? How would you prepare the different sets?**"
   ]
  },
  {
   "cell_type": "markdown",
   "id": "0ec9e135",
   "metadata": {},
   "source": [
    "### Collect the targets :\n",
    "\n",
    "Use UBS’s historical data, identifying each client’s profile and the funds in which they have invested.\n",
    "Analyze client behavior and trends on the UBS website [fundgate.ubs.com](https://fundgate.ubs.com/), identifying which types of funds are most frequently viewed by which types of clients.\n",
    "\n",
    "### Three independent data sets:\n",
    "\n",
    "Use 60% of the collected data to train the model. Ensure a good proportion of each class (funds chosen or not) to avoid an imbalance that could bias the predictions. If certain types of funds are chosen much more frequently than others (for example, low-risk funds that are often popular), techniques such as oversampling underrepresented funds / undersampling overrepresented ones should be applied to reduce bias.\n",
    "\n",
    "Use a validation set with 20% of the data to adjust the hyperparameters and evaluate performance outside the training set, preventing overfitting. We can also apply a k-fold cross-validation, to rotate through different folds so that every sample is used once.\n",
    "\n",
    "Reserve the remaining 20% of the data for the final test. These data should not be used during the training phase, in order to evaluate the model’s generalization capability.\n",
    "\n",
    "Finally, we may need to balance the datasets by randomly selecting samples and then verifying the distribution to ensure it is accurate. "
   ]
  }
 ],
 "metadata": {
  "kernelspec": {
   "display_name": "Python 3 (ipykernel)",
   "language": "python",
   "name": "python3"
  },
  "language_info": {
   "codemirror_mode": {
    "name": "ipython",
    "version": 3
   },
   "file_extension": ".py",
   "mimetype": "text/x-python",
   "name": "python",
   "nbconvert_exporter": "python",
   "pygments_lexer": "ipython3",
   "version": "3.11.0"
  }
 },
 "nbformat": 4,
 "nbformat_minor": 5
}
