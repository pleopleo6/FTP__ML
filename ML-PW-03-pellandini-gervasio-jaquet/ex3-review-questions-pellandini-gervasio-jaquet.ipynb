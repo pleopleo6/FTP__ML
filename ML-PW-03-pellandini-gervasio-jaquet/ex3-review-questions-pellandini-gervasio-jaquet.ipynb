{
 "cells": [
  {
   "cell_type": "markdown",
   "id": "6d17f634",
   "metadata": {},
   "source": ""
  },
  {
   "cell_type": "markdown",
   "id": "ad0d40d6",
   "metadata": {},
   "source": [
    "# Exercice 3 - Review questions\n",
    "TP fait par : Leo Pellandini, Steven Jaquet et André Quintas Gervasio\n"
   ]
  },
  {
   "cell_type": "markdown",
   "id": "3e556a9d",
   "metadata": {},
   "source": [
    "**a) Assuming an univariate input *x*, what is the complexity at inference time of a Bayesian classifier based on histogram computation of the likelihood ?**"
   ]
  },
  {
   "cell_type": "markdown",
   "id": "8d2fb7ef",
   "metadata": {},
   "source": [
    "It all depends on the number of classes in the current classification task. Indeed, all the different steps that are done using Bayes classifier are done for each and every class individually.\n",
    "\n",
    "Example: as seen in class, the likelihood p(x | given class) is obtained by finding which bin the input x falls into within each class’s histogram. This lookup must be done for every class individually."
   ]
  },
  {
   "cell_type": "markdown",
   "id": "99632770",
   "metadata": {},
   "source": [
    "**b) Bayesian models are said to be generative as they can be used to generate new samples. Taking the implementation of the exercise 1.a, explain the steps to generate new samples using the system you have put into place.**\n",
    " "
   ]
  },
  {
   "cell_type": "markdown",
   "id": "88ab64b2",
   "metadata": {},
   "source": "It is done by using the already trained model. We first sample a class according to its prior probability, and then generate the corresponding feature values using the class-conditional histograms (likelihoods) obtained during training, so it becomes purely probabilistic."
  },
  {
   "cell_type": "markdown",
   "id": "e2f611fe",
   "metadata": {},
   "source": [
    "***Optional*: Provide an implementation in a function generateSample(priors, histValues, edgeValues, n)**"
   ]
  },
  {
   "cell_type": "code",
   "id": "14aba0f7",
   "metadata": {
    "ExecuteTime": {
     "end_time": "2025-10-05T13:06:51.457860Z",
     "start_time": "2025-10-05T13:06:50.989784Z"
    }
   },
   "source": [
    "import matplotlib.pyplot as plt\n",
    "import numpy as np\n",
    "\n",
    "\n",
    "def generateSample(priors, histValues, edgeValues, n):\n",
    "    # features and their classes\n",
    "    X, y = [], []\n",
    "    \n",
    "    # normalized version of histograms, where a hist is a likelihood for a class\n",
    "    probs = [h / np.sum(h) for h in histValues]\n",
    "    \n",
    "    for _ in range(n):\n",
    "        \n",
    "        # random class chosen based on priori\n",
    "        c = np.random.choice(len(priors), p=priors)\n",
    "        \n",
    "        # get a bin and a random x from that bin for given class\n",
    "        b = np.random.choice(len(probs[c]), p=probs[c])\n",
    "        x = np.random.uniform(edgeValues[c][b], edgeValues[c][b+1])\n",
    "        \n",
    "        X.append(x)\n",
    "        y.append(c)\n",
    "    return np.array(X), np.array(y)\n",
    "\n",
    "# random 2 class\n",
    "priors = [0.4, 0.6]\n",
    "\n",
    "# bins\n",
    "histValues = [np.array([10, 20, 40, 30]), np.array([5, 15, 50, 30])]\n",
    "edgeValues = [np.array([0, 30, 60, 90, 120]), np.array([0, 30, 60, 90, 120])]\n",
    "n = 1000\n",
    "\n",
    "X, y = generateSample(priors, histValues, edgeValues, n)\n",
    "\n",
    "\n",
    "plt.hist(X[y==0], bins=edgeValues[0], alpha=0.6, label=\"class=0\")\n",
    "plt.hist(X[y==1], bins=edgeValues[1], alpha=0.6, label=\"class = 1\")\n",
    "plt.legend()\n",
    "plt.show()"
   ],
   "outputs": [
    {
     "data": {
      "text/plain": [
       "<Figure size 640x480 with 1 Axes>"
      ],
      "image/png": "[encoded data removed]"
     },
     "metadata": {},
     "output_type": "display_data"
    }
   ],
   "execution_count": 32
  },
  {
   "cell_type": "markdown",
   "id": "ed8c4f6b",
   "metadata": {},
   "source": [
    "**c) What is the minimum overall accuracy of a 2-class system relying only on priors and that is built on a training set that includes 5 times more samples in class A than in class B?**"
   ]
  },
  {
   "cell_type": "markdown",
   "id": "4bb03365",
   "metadata": {},
   "source": "If we only use prior information then the model will be biased given that there is clearly a majority in class A. Given this, the model will always choose class A. The accuracy itself will always depend on the test set we choose. For example if it contains only A, then it will be 100%. but if it follows the same distribution as the training set, then it is going to be 5/6 or 83.3%."
  },
  {
   "cell_type": "markdown",
   "id": "58450ff6",
   "metadata": {},
   "source": [
    "**d) Let’s look back at the PW02 exercise 3 of last week. We have built a knn classification systems for images of digits on the MNIST database.**\n",
    "\n",
    "**How would you build a Bayesian classification for the same task ? Comment on the prior probabilities and on the likelihood estimators. More specifically, what kind of likelihood estimator could we use in this case ?**"
   ]
  },
  {
   "cell_type": "markdown",
   "id": "d2bf1500",
   "metadata": {},
   "source": [
    "\n",
    "We can achieve this by creating a Naive Bayes which estimates the probability of each digit class given the pixels in the imaage.\n",
    "\n",
    "- A priori (P(Ck)) is the probability of each digit belonging to a given class. MNIST being balanced, it is the same for every class.\n",
    "- The likelihood P(x|Ck) addresses each x=pixel individually. It indicates the probability of each pixel appearing in the different digit classes.\n",
    "\n",
    "The implemented version uses the Naive Bayes from sci-kit learn. It accepts as inputs all 784 pixels from each imag and compares the generated class to the one given by the model. The proposed accuracy is 0.5558 which shows that some of the structure in the images is kept but the classification task remains challenging. This is of course expected as the Naive Bayes assumes that there is a feature independence, which is not really the case for the pixels in these images. So its a good baseline for this task."
   ]
  },
  {
   "cell_type": "markdown",
   "id": "a3ca9715",
   "metadata": {},
   "source": [
    "***Optional:* implement it and report performance !**"
   ]
  },
  {
   "metadata": {
    "ExecuteTime": {
     "end_time": "2025-10-05T13:19:08.224131Z",
     "start_time": "2025-10-05T13:19:05.813020Z"
    }
   },
   "cell_type": "code",
   "source": [
    "from sklearn.naive_bayes import GaussianNB\n",
    "from sklearn.metrics import accuracy_score, confusion_matrix\n",
    "from tensorflow.keras.datasets import mnist \n",
    "\n",
    "# get the data from mnist\n",
    "(X_train, y_train), (X_test, y_test) = mnist.load_data()\n",
    "\n",
    "# get 60k images for train - 28x28 dim and 10k for test - apply norm\n",
    "X_train = X_train.reshape(60000, 784)/ 255.0\n",
    "X_test = X_test.reshape(10000, 784)/ 255.0\n",
    "\n",
    "\n",
    "# train \n",
    "model = GaussianNB()\n",
    "model.fit(X_train, y_train)\n",
    "\n",
    "# test\n",
    "y_predicted = model.predict(X_test)\n",
    "\n",
    "# print accuracy in classification\n",
    "accuracy = accuracy_score(y_test, y_predicted)\n",
    "print(f\"acc is {accuracy}\")"
   ],
   "id": "4de72736",
   "outputs": [
    {
     "name": "stdout",
     "output_type": "stream",
     "text": [
      "acc is 0.5558\n"
     ]
    }
   ],
   "execution_count": 12
  },
  {
   "cell_type": "markdown",
   "id": "b812b46f",
   "metadata": {},
   "source": [
    "**e) Read [europe-border-control-ai-lie-detector](https://theintercept.com/2019/07/26/europe-border-control-ai-lie-detector/). The described system is \"a virtual policeman designed to strengthen European borders\". It can be seen as a 2-class problem, either you are a suspicious traveler or you are not. If you are declared as suspicious by the system, you are routed to a human border agent who analyses your case in a more careful way.**\n",
    "\n",
    "1. What kind of errors can the system make ? Explain them in your own words.\n",
    "2. Is one error more critical than the other ? Explain why.\n",
    "3. According to the previous points, which metric would you recommend to tune your MLsystem ?"
   ]
  },
  {
   "cell_type": "markdown",
   "id": "1adf1760",
   "metadata": {},
   "source": [
    "1. Two errors can be made :\n",
    "- False Positives : Where the system predicts that someone is suspicious where in fact the person is a regular traveler.\n",
    "- False Negatives : The system missed a suspicious traveler by indicating that someone is regular where in fact he is not.\n",
    "\n",
    "2. There is indeed a more critical error, which in this case is the False Negative. Indeed, the FP is not costly, the only thing that we lose is the time for someone to check the person manually. Whilst we cannot afford to have someone dangerous to get into the border (FN), if the system misses the person, it may be costly and dangerous.\n",
    "\n",
    "3. We would rather choose Recall as top metric, as security in this case is of top priority.\n",
    " "
   ]
  },
  {
   "cell_type": "markdown",
   "id": "195a1f73-c0f7-4707-9551-c71bfa379960",
   "metadata": {},
   "source": [
    "**f) When a deep learning architecture is trained using an unbalanced training set, we usually observe a problem of bias, i.e. the system favors one class over another one. Using the Bayes equation, explain what is the origin of the problem.**"
   ]
  },
  {
   "cell_type": "markdown",
   "id": "fa5ffd45-0645-4093-9a1b-0a7aeaeece0e",
   "metadata": {},
   "source": "There might indeed be a bias when using Bayes, which can sometimes be desired when the imbalance between classes is natural. However, if this imbalance does not reflect the real-world context, the *prior probability function* becomes problematic, as it makes the model favor the majority class and  just leads to biased predictions."
  }
 ],
 "metadata": {
  "kernelspec": {
   "display_name": ".venv (3.13.7)",
   "language": "python",
   "name": "python3"
  },
  "language_info": {
   "codemirror_mode": {
    "name": "ipython",
    "version": 3
   },
   "file_extension": ".py",
   "mimetype": "text/x-python",
   "name": "python",
   "nbconvert_exporter": "python",
   "pygments_lexer": "ipython3",
   "version": "3.13.7"
  }
 },
 "nbformat": 4,
 "nbformat_minor": 5
}
