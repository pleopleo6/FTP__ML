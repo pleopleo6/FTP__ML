{
 "cells": [
  {
   "cell_type": "markdown",
   "id": "bcf79585",
   "metadata": {},
   "source": [
    "# Exercice 2 - System evaluation"
   ]
  },
  {
   "cell_type": "markdown",
   "id": "f642cedb",
   "metadata": {},
   "source": [
    "## Imports"
   ]
  },
  {
   "cell_type": "code",
   "execution_count": 113,
   "id": "9421a4e1",
   "metadata": {},
   "outputs": [],
   "source": [
    "import pandas as pd\n",
    "import numpy as np\n",
    "import seaborn as sb\n",
    "import matplotlib.pyplot as plt"
   ]
  },
  {
   "cell_type": "markdown",
   "id": "a0d67fa6",
   "metadata": {},
   "source": [
    "## Load data"
   ]
  },
  {
   "cell_type": "markdown",
   "id": "5fe90672",
   "metadata": {},
   "source": [
    "Define the path of the data file"
   ]
  },
  {
   "cell_type": "code",
   "execution_count": 114,
   "id": "ecd4a4cf",
   "metadata": {},
   "outputs": [],
   "source": [
    "path = \"ex2-system-a.csv\""
   ]
  },
  {
   "cell_type": "markdown",
   "id": "246e7392",
   "metadata": {},
   "source": [
    "Read the CSV file using `read_csv`"
   ]
  },
  {
   "cell_type": "code",
   "execution_count": 115,
   "id": "623096a5",
   "metadata": {},
   "outputs": [],
   "source": [
    "dataset_a = pd.read_csv(path, sep=\";\", index_col=False, names=[\"0\", \"1\", \"2\", \"3\", \"4\", \"5\", \"6\", \"7\", \"8\", \"9\", \"y_true\"])"
   ]
  },
  {
   "cell_type": "markdown",
   "id": "6f764c56",
   "metadata": {},
   "source": [
    "Display first rows"
   ]
  },
  {
   "cell_type": "code",
   "execution_count": 116,
   "id": "c59a1651",
   "metadata": {},
   "outputs": [
    {
     "data": {
      "text/html": [
       "<div>\n",
       "<style scoped>\n",
       "    .dataframe tbody tr th:only-of-type {\n",
       "        vertical-align: middle;\n",
       "    }\n",
       "\n",
       "    .dataframe tbody tr th {\n",
       "        vertical-align: top;\n",
       "    }\n",
       "\n",
       "    .dataframe thead th {\n",
       "        text-align: right;\n",
       "    }\n",
       "</style>\n",
       "<table border=\"1\" class=\"dataframe\">\n",
       "  <thead>\n",
       "    <tr style=\"text-align: right;\">\n",
       "      <th></th>\n",
       "      <th>0</th>\n",
       "      <th>1</th>\n",
       "      <th>2</th>\n",
       "      <th>3</th>\n",
       "      <th>4</th>\n",
       "      <th>5</th>\n",
       "      <th>6</th>\n",
       "      <th>7</th>\n",
       "      <th>8</th>\n",
       "      <th>9</th>\n",
       "      <th>y_true</th>\n",
       "    </tr>\n",
       "  </thead>\n",
       "  <tbody>\n",
       "    <tr>\n",
       "      <th>0</th>\n",
       "      <td>5.348450e-08</td>\n",
       "      <td>7.493480e-10</td>\n",
       "      <td>8.083470e-07</td>\n",
       "      <td>2.082290e-05</td>\n",
       "      <td>5.222360e-10</td>\n",
       "      <td>2.330260e-08</td>\n",
       "      <td>5.241270e-12</td>\n",
       "      <td>9.999650e-01</td>\n",
       "      <td>4.808590e-07</td>\n",
       "      <td>0.000013</td>\n",
       "      <td>7</td>\n",
       "    </tr>\n",
       "    <tr>\n",
       "      <th>1</th>\n",
       "      <td>1.334270e-03</td>\n",
       "      <td>3.202960e-05</td>\n",
       "      <td>8.504280e-01</td>\n",
       "      <td>1.669090e-03</td>\n",
       "      <td>1.546460e-07</td>\n",
       "      <td>2.412940e-04</td>\n",
       "      <td>1.448280e-01</td>\n",
       "      <td>1.122810e-11</td>\n",
       "      <td>1.456330e-03</td>\n",
       "      <td>0.000011</td>\n",
       "      <td>2</td>\n",
       "    </tr>\n",
       "    <tr>\n",
       "      <th>2</th>\n",
       "      <td>3.643050e-06</td>\n",
       "      <td>9.962760e-01</td>\n",
       "      <td>2.045910e-03</td>\n",
       "      <td>4.210530e-04</td>\n",
       "      <td>2.194020e-05</td>\n",
       "      <td>1.644130e-05</td>\n",
       "      <td>2.838160e-04</td>\n",
       "      <td>3.722960e-04</td>\n",
       "      <td>5.150120e-04</td>\n",
       "      <td>0.000044</td>\n",
       "      <td>1</td>\n",
       "    </tr>\n",
       "    <tr>\n",
       "      <th>3</th>\n",
       "      <td>9.998200e-01</td>\n",
       "      <td>2.550390e-10</td>\n",
       "      <td>1.112010e-05</td>\n",
       "      <td>1.653200e-05</td>\n",
       "      <td>5.375730e-10</td>\n",
       "      <td>8.999750e-05</td>\n",
       "      <td>9.380920e-06</td>\n",
       "      <td>4.464470e-05</td>\n",
       "      <td>2.418440e-06</td>\n",
       "      <td>0.000006</td>\n",
       "      <td>0</td>\n",
       "    </tr>\n",
       "    <tr>\n",
       "      <th>4</th>\n",
       "      <td>2.092460e-08</td>\n",
       "      <td>7.464220e-08</td>\n",
       "      <td>3.560820e-05</td>\n",
       "      <td>5.496200e-07</td>\n",
       "      <td>9.988960e-01</td>\n",
       "      <td>3.070920e-08</td>\n",
       "      <td>2.346150e-04</td>\n",
       "      <td>9.748010e-07</td>\n",
       "      <td>1.071610e-06</td>\n",
       "      <td>0.000831</td>\n",
       "      <td>4</td>\n",
       "    </tr>\n",
       "  </tbody>\n",
       "</table>\n",
       "</div>"
      ],
      "text/plain": [
       "              0             1             2             3             4  \\\n",
       "0  5.348450e-08  7.493480e-10  8.083470e-07  2.082290e-05  5.222360e-10   \n",
       "1  1.334270e-03  3.202960e-05  8.504280e-01  1.669090e-03  1.546460e-07   \n",
       "2  3.643050e-06  9.962760e-01  2.045910e-03  4.210530e-04  2.194020e-05   \n",
       "3  9.998200e-01  2.550390e-10  1.112010e-05  1.653200e-05  5.375730e-10   \n",
       "4  2.092460e-08  7.464220e-08  3.560820e-05  5.496200e-07  9.988960e-01   \n",
       "\n",
       "              5             6             7             8         9  y_true  \n",
       "0  2.330260e-08  5.241270e-12  9.999650e-01  4.808590e-07  0.000013       7  \n",
       "1  2.412940e-04  1.448280e-01  1.122810e-11  1.456330e-03  0.000011       2  \n",
       "2  1.644130e-05  2.838160e-04  3.722960e-04  5.150120e-04  0.000044       1  \n",
       "3  8.999750e-05  9.380920e-06  4.464470e-05  2.418440e-06  0.000006       0  \n",
       "4  3.070920e-08  2.346150e-04  9.748010e-07  1.071610e-06  0.000831       4  "
      ]
     },
     "execution_count": 116,
     "metadata": {},
     "output_type": "execute_result"
    }
   ],
   "source": [
    "dataset_a.head()"
   ]
  },
  {
   "cell_type": "markdown",
   "id": "41f040b0",
   "metadata": {},
   "source": [
    "Store some useful statistics (class names + number of classes)"
   ]
  },
  {
   "cell_type": "code",
   "execution_count": 117,
   "id": "fd0adce4",
   "metadata": {},
   "outputs": [],
   "source": [
    "class_names = [\"0\", \"1\", \"2\", \"3\", \"4\", \"5\", \"6\", \"7\", \"8\", \"9\"]\n",
    "nb_classes = len(class_names)"
   ]
  },
  {
   "cell_type": "markdown",
   "id": "5a0ab85a",
   "metadata": {},
   "source": [
    "## Exercise's steps"
   ]
  },
  {
   "cell_type": "markdown",
   "id": "66ae582e",
   "metadata": {},
   "source": [
    "a) Write a function to take classification decisions on such outputs according to Bayes’rule."
   ]
  },
  {
   "cell_type": "code",
   "execution_count": 118,
   "id": "3c36b377",
   "metadata": {},
   "outputs": [],
   "source": [
    "def bayes_classification(df):\n",
    "    \"\"\"\n",
    "    Take classification decisions according to Bayes rule.\n",
    "        \n",
    "    Parameters\n",
    "    ----------\n",
    "    df : Pandas DataFrame of shape (n_samples, n_features + ground truth)\n",
    "         Dataset.\n",
    "         \n",
    "    Returns\n",
    "    -------\n",
    "    preds : Numpy array of shape (n_samples,)\n",
    "            Class labels for each data sample.\n",
    "    \"\"\"\n",
    "    # Your code here\n",
    "    preds = np.argmax(df.iloc[: , :-1], axis = 1) # axis = 1 => max on rows\n",
    "    return preds"
   ]
  },
  {
   "cell_type": "markdown",
   "id": "b5e8140b",
   "metadata": {},
   "source": [
    "b) What is the overall error rate of the system ?"
   ]
  },
  {
   "cell_type": "code",
   "execution_count": 119,
   "id": "f3b21bfb",
   "metadata": {},
   "outputs": [
    {
     "name": "stdout",
     "output_type": "stream",
     "text": [
      "The error rate of A is: 10.73 %\n"
     ]
    }
   ],
   "source": [
    "# Your code here: compute and print the error rate of the system\n",
    "predictions = bayes_classification(dataset_a)\n",
    "error_rate = (predictions != dataset_a[\"y_true\"]).sum() / dataset_a[\"y_true\"].size * 100\n",
    "print(f\"The error rate of A is: {error_rate:.2f} %\")"
   ]
  },
  {
   "cell_type": "markdown",
   "id": "a4f0fa5f",
   "metadata": {},
   "source": [
    "c) Compute and report the confusion matrix of the system."
   ]
  },
  {
   "cell_type": "code",
   "execution_count": 120,
   "id": "bb106415",
   "metadata": {},
   "outputs": [],
   "source": [
    "def confusion_matrix(y_true, y_pred, n_classes):\n",
    "    \"\"\"\n",
    "    Compute the confusion matrix.\n",
    "        \n",
    "    Parameters\n",
    "    ----------\n",
    "    y_true : Numpy array of shape (n_samples,)\n",
    "             Ground truth.\n",
    "    y_pred : Numpy array of shape (n_samples,)\n",
    "             Predictions.\n",
    "    n_classes : Integer\n",
    "                Number of classes.\n",
    "         \n",
    "    Returns\n",
    "    -------\n",
    "    cm : Numpy array of shape (n_classes, n_classes)\n",
    "         Confusion matrix.\n",
    "    \"\"\"\n",
    "    # Your code here\n",
    "    cm = np.zeros(shape=(n_classes, n_classes), dtype=int)\n",
    "    \n",
    "    for i in range(0, len(y_true)):\n",
    "        cm[y_true[i]][y_pred[i]] += 1\n",
    "        \n",
    "    return cm"
   ]
  },
  {
   "cell_type": "code",
   "execution_count": 121,
   "id": "1b38e3a8",
   "metadata": {},
   "outputs": [
    {
     "data": {
      "image/png": "[encoded data removed]",
      "text/plain": [
       "<Figure size 640x480 with 2 Axes>"
      ]
     },
     "metadata": {},
     "output_type": "display_data"
    }
   ],
   "source": [
    "# Your code here: compute and print the confusion matrix\n",
    "cm = confusion_matrix(dataset_a[\"y_true\"], predictions, nb_classes)\n",
    "sb.heatmap(cm, annot=True, fmt='.0f', cmap='hot')\n",
    "plt.show()"
   ]
  },
  {
   "cell_type": "markdown",
   "id": "ed8db908",
   "metadata": {},
   "source": [
    "d) What are the worst and best classes in terms of precision and recall ?"
   ]
  },
  {
   "cell_type": "code",
   "execution_count": 122,
   "id": "0e229ce0",
   "metadata": {},
   "outputs": [],
   "source": [
    "def precision_per_class(cm):\n",
    "    \"\"\"\n",
    "    Compute the precision per class.\n",
    "        \n",
    "    Parameters\n",
    "    ----------\n",
    "    cm : Numpy array of shape (n_classes, n_classes)\n",
    "         Confusion matrix.\n",
    "         \n",
    "    Returns\n",
    "    -------\n",
    "    precisions : Numpy array of shape (n_classes,)\n",
    "                 Precision per class.\n",
    "    \"\"\"\n",
    "    # Your code here\n",
    "    precisions = np.zeros(shape=nb_classes, dtype=float)\n",
    "    \n",
    "    for i in range(0, nb_classes) :\n",
    "        TP = cm[i][i]\n",
    "        TP_and_FP = np.sum(cm[:, i])\n",
    "        precisions[i] = TP / TP_and_FP\n",
    "\n",
    "    return precisions"
   ]
  },
  {
   "cell_type": "code",
   "execution_count": 123,
   "id": "95325772",
   "metadata": {},
   "outputs": [],
   "source": [
    "def recall_per_class(cm):\n",
    "    \"\"\"\n",
    "    Compute the recall per class.\n",
    "        \n",
    "    Parameters\n",
    "    ----------\n",
    "    cm : Numpy array of shape (n_classes, n_classes)\n",
    "         Confusion matrix.\n",
    "         \n",
    "    Returns\n",
    "    -------\n",
    "    recalls : Numpy array of shape (n_classes,)\n",
    "              Recall per class.\n",
    "    \"\"\"\n",
    "    # Your code here\n",
    "    recalls = np.zeros(shape=nb_classes, dtype=float)\n",
    "    \n",
    "    for i in range(0, nb_classes) :\n",
    "        TP = cm[i][i]\n",
    "        TP_and_FN = np.sum(cm[i, :])\n",
    "        recalls[i] = TP / TP_and_FN\n",
    "    \n",
    "    return recalls"
   ]
  },
  {
   "cell_type": "code",
   "execution_count": 124,
   "id": "a0fb19e3",
   "metadata": {},
   "outputs": [
    {
     "name": "stdout",
     "output_type": "stream",
     "text": [
      "Worst class: 5 (precision: 0.8135593220338984)\n",
      "Best  class: 1 (precision: 0.9569707401032702)\n"
     ]
    }
   ],
   "source": [
    "# Your code here: find and print the worst and best classes in terms of precision\n",
    "precisions = precision_per_class(cm)\n",
    "min_prec = np.argmin(precisions)\n",
    "max_prec = np.argmax(precisions)\n",
    "print(f\"Worst class: {min_prec} (precision: {precisions[min_prec]})\")\n",
    "print(f\"Best  class: {max_prec} (precision: {precisions[max_prec]})\")"
   ]
  },
  {
   "cell_type": "code",
   "execution_count": 125,
   "id": "42c3edd8",
   "metadata": {},
   "outputs": [
    {
     "name": "stdout",
     "output_type": "stream",
     "text": [
      "Worst class: 8 (recall: 0.7926078028747433)\n",
      "Best  class: 1 (recall: 0.9797356828193833)\n"
     ]
    }
   ],
   "source": [
    "# Your code here: find and print the worst and best classes in terms of recall\n",
    "recalls = recall_per_class(cm)\n",
    "min_rec = np.argmin(recalls)\n",
    "max_rec = np.argmax(recalls)\n",
    "print(f\"Worst class: {min_rec} (recall: {recalls[min_rec]})\")\n",
    "print(f\"Best  class: {max_rec} (recall: {recalls[max_rec]})\")"
   ]
  },
  {
   "cell_type": "markdown",
   "id": "7ac6fe5d",
   "metadata": {},
   "source": [
    "e) In file `ex1-system-b.csv` you find the output of a second system B. What is the best system between (a) and (b) in terms of error rate and F1."
   ]
  },
  {
   "cell_type": "code",
   "execution_count": 126,
   "id": "b98c2545",
   "metadata": {},
   "outputs": [
    {
     "name": "stdout",
     "output_type": "stream",
     "text": [
      "The error rate of B is: 3.87 %\n"
     ]
    },
    {
     "data": {
      "image/png": "[encoded data removed]",
      "text/plain": [
       "<Figure size 640x480 with 2 Axes>"
      ]
     },
     "metadata": {},
     "output_type": "display_data"
    }
   ],
   "source": [
    "# Your code here: load the data of the system B\n",
    "path_2 = \"ex2-system-b.csv\"\n",
    "dataset_b = pd.read_csv(path_2, sep=\";\", index_col=False, names=[\"0\", \"1\", \"2\", \"3\", \"4\", \"5\", \"6\", \"7\", \"8\", \"9\", \"y_true\"])\n",
    "\n",
    "predictions_b = bayes_classification(dataset_b)\n",
    "error_rate_b = (predictions_b != dataset_b[\"y_true\"]).sum() / dataset_b[\"y_true\"].size * 100\n",
    "print(f\"The error rate of B is: {error_rate_b:.2f} %\")\n",
    "\n",
    "cm_b = confusion_matrix(dataset_b[\"y_true\"], predictions_b, nb_classes)\n",
    "sb.heatmap(cm_b, annot=True, fmt='.0f', cmap='hot')\n",
    "plt.show()"
   ]
  },
  {
   "cell_type": "code",
   "execution_count": 127,
   "id": "050091b9",
   "metadata": {},
   "outputs": [],
   "source": [
    "def system_accuracy(cm):\n",
    "    \"\"\"\n",
    "    Compute the system accuracy.\n",
    "        \n",
    "    Parameters\n",
    "    ----------\n",
    "    cm : Numpy array of shape (n_classes, n_classes)\n",
    "         Confusion matrix.\n",
    "         \n",
    "    Returns\n",
    "    -------\n",
    "    accuracy : Float\n",
    "               Accuracy of the system.\n",
    "    \"\"\"\n",
    "    # Your code here\n",
    "    return np.sum(np.diag(cm)) / np.sum(cm)"
   ]
  },
  {
   "cell_type": "code",
   "execution_count": 128,
   "id": "adc0f138",
   "metadata": {},
   "outputs": [],
   "source": [
    "def system_f1_score(cm):\n",
    "    \"\"\"\n",
    "    Compute the system F1 score.\n",
    "        \n",
    "    Parameters\n",
    "    ----------\n",
    "    cm : Numpy array of shape (n_classes, n_classes)\n",
    "         Confusion matrix.\n",
    "         \n",
    "    Returns\n",
    "    -------\n",
    "    f1_score : Float\n",
    "               F1 score of the system.\n",
    "    \"\"\"\n",
    "    # Your code here\n",
    "    precisions = precision_per_class(cm)\n",
    "    recalls = recall_per_class(cm)\n",
    "    \n",
    "    f1_scores = 2 * precisions * recalls / (precisions + recalls)\n",
    "    return np.mean(f1_scores)"
   ]
  },
  {
   "cell_type": "code",
   "execution_count": 129,
   "id": "f1385c87",
   "metadata": {},
   "outputs": [
    {
     "name": "stdout",
     "output_type": "stream",
     "text": [
      "Accuracy of system A : 0.8927\n",
      "F1 score of system A : 0.8907\n"
     ]
    }
   ],
   "source": [
    "# Your code here: compute and print the accuracy and the F1 score of the system A\n",
    "print(f\"Accuracy of system A : {system_accuracy(cm):.4f}\")\n",
    "print(f\"F1 score of system A : {system_f1_score(cm):.4f}\")"
   ]
  },
  {
   "cell_type": "code",
   "execution_count": 130,
   "id": "50c64d08",
   "metadata": {},
   "outputs": [
    {
     "name": "stdout",
     "output_type": "stream",
     "text": [
      "Accuracy of system B : 0.9613\n",
      "F1 score of system B : 0.9609\n"
     ]
    }
   ],
   "source": [
    "# Your code here: compute and print the accuracy and the F1 score of the system B\n",
    "print(f\"Accuracy of system B : {system_accuracy(cm_b):.4f}\")\n",
    "print(f\"F1 score of system B : {system_f1_score(cm_b):.4f}\")"
   ]
  },
  {
   "cell_type": "markdown",
   "id": "431fed10-c9fd-4ff2-824d-7fa32f928f22",
   "metadata": {},
   "source": [
    "Conclusion:\n",
    "\n",
    "System B is better, it has both higher accuracy and higher F1"
   ]
  },
  {
   "cell_type": "code",
   "execution_count": null,
   "id": "b4369f2c-dfb0-4f2a-a30f-a60079e6e348",
   "metadata": {},
   "outputs": [],
   "source": []
  }
 ],
 "metadata": {
  "kernelspec": {
   "display_name": "Python 3 (ipykernel)",
   "language": "python",
   "name": "python3"
  },
  "language_info": {
   "codemirror_mode": {
    "name": "ipython",
    "version": 3
   },
   "file_extension": ".py",
   "mimetype": "text/x-python",
   "name": "python",
   "nbconvert_exporter": "python",
   "pygments_lexer": "ipython3",
   "version": "3.11.0"
  }
 },
 "nbformat": 4,
 "nbformat_minor": 5
}
