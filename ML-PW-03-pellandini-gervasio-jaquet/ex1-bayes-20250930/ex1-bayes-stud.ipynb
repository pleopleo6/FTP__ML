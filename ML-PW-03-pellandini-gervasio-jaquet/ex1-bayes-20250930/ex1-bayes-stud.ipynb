{
 "cells": [
  {
   "cell_type": "markdown",
   "metadata": {
    "collapsed": true
   },
   "source": [
    "## Exercise 1 - Bayes classification system"
   ]
  },
  {
   "cell_type": "code",
   "execution_count": 333,
   "metadata": {},
   "outputs": [],
   "source": [
    "# Import some useful libraries\n",
    "\n",
    "import math\n",
    "\n",
    "import matplotlib.pyplot as plt\n",
    "import numpy as np\n",
    "import pandas as pd\n",
    "from sklearn.model_selection import train_test_split\n",
    "from sklearn.preprocessing import OrdinalEncoder, StandardScaler"
   ]
  },
  {
   "cell_type": "markdown",
   "metadata": {},
   "source": [
    "## 1a. Getting started with Bayes"
   ]
  },
  {
   "cell_type": "markdown",
   "metadata": {},
   "source": [
    "a) Read the training data from file ex1-data-train.csv. The first two columns are x1 and x2. The last column holds the class label y."
   ]
  },
  {
   "cell_type": "code",
   "execution_count": 334,
   "metadata": {
    "pycharm": {
     "is_executing": false
    }
   },
   "outputs": [],
   "source": [
    "def read_data(file):\n",
    "    dataset = pd.read_csv(file, names=['x1','x2','y'])\n",
    "    print(dataset.head())\n",
    "    return dataset[[\"x1\", \"x2\"]], dataset[\"y\"].values"
   ]
  },
  {
   "cell_type": "code",
   "execution_count": 335,
   "metadata": {},
   "outputs": [
    {
     "name": "stdout",
     "output_type": "stream",
     "text": [
      "          x1         x2  y\n",
      "0  34.623660  78.024693  0\n",
      "1  30.286711  43.894998  0\n",
      "2  35.847409  72.902198  0\n",
      "3  60.182599  86.308552  1\n",
      "4  79.032736  75.344376  1\n"
     ]
    }
   ],
   "source": [
    "X_train, y_train = read_data(\"ex1-data-train.csv\")"
   ]
  },
  {
   "cell_type": "code",
   "execution_count": 336,
   "metadata": {},
   "outputs": [],
   "source": [
    "# Prepare a function to compute accuracy\n",
    "def accuracy_score(y_true, y_pred):\n",
    "    return (y_true == y_pred).sum() / y_true.size"
   ]
  },
  {
   "cell_type": "markdown",
   "metadata": {},
   "source": [
    "b) Compute the priors of both classes P(C0) and P(C1)"
   ]
  },
  {
   "cell_type": "code",
   "execution_count": 337,
   "metadata": {
    "pycharm": {
     "is_executing": false
    }
   },
   "outputs": [
    {
     "name": "stdout",
     "output_type": "stream",
     "text": [
      "PC0 = 0.4\n",
      "PC1 = 0.6\n"
     ]
    }
   ],
   "source": [
    "# TODO: Compute the priors\n",
    "\n",
    "# P(Ck) = nombre d’échantillons de la classe k / nombre total d’échantillons\n",
    "p_c0 = np.mean(y_train == 0)  # P(C0) = N0 / total\n",
    "p_c1 = np.mean(y_train == 1)  # P(C1) = N1 / total\n",
    "\n",
    "print(\"PC0 = \"+str(p_c0))\n",
    "print(\"PC1 = \"+str(p_c1))"
   ]
  },
  {
   "cell_type": "markdown",
   "metadata": {},
   "source": [
    "c) Compute histograms of x1 and x2 for each class (total of 4 histograms). Plot these histograms. Advice : use the numpy `histogram(a, bins=\"auto\")` function."
   ]
  },
  {
   "cell_type": "code",
   "execution_count": 338,
   "metadata": {
    "pycharm": {
     "is_executing": false
    }
   },
   "outputs": [
    {
     "data": {
      "image/png": "[encoded data removed]",
      "text/plain": [
       "<Figure size 1600x600 with 2 Axes>"
      ]
     },
     "metadata": {},
     "output_type": "display_data"
    }
   ],
   "source": [
    "# TODO: Compute histograms\n",
    "\n",
    "# --- Compute histograms and plot ---\n",
    "x1_c0 = X_train[\"x1\"][y_train == 0]\n",
    "x1_c1 = X_train[\"x1\"][y_train == 1]\n",
    "x2_c0 = X_train[\"x2\"][y_train == 0]\n",
    "x2_c1 = X_train[\"x2\"][y_train == 1]\n",
    "\n",
    "# besoin de faire ça pour plus bas (predict on test set)\n",
    "hist_x1_c0, bins_x1_c0 = np.histogram(x1_c0, bins=\"auto\")\n",
    "hist_x1_c1, bins_x1_c1 = np.histogram(x1_c1, bins=\"auto\")\n",
    "hist_x2_c0, bins_x2_c0 = np.histogram(x2_c0, bins=\"auto\")\n",
    "hist_x2_c1, bins_x2_c1 = np.histogram(x2_c1, bins=\"auto\")\n",
    "\n",
    "\n",
    "# TODO: plot histograms\n",
    "\n",
    "plt.figure(figsize=(16,6))\n",
    "\n",
    "# Histogram x1\n",
    "plt.subplot(1, 2, 1)\n",
    "plt.hist(x1_c0, bins=\"auto\", alpha=0.6, color=\"blue\", label=\"Class 0\")\n",
    "plt.hist(x1_c1, bins=\"auto\", alpha=0.6, color=\"red\", label=\"Class 1\")\n",
    "plt.xlabel('Likelihood hist - Exam 1')\n",
    "plt.legend()\n",
    "\n",
    "# Histogram x2\n",
    "plt.subplot(1, 2, 2)\n",
    "plt.hist(x2_c0, bins=\"auto\", alpha=0.6, color=\"green\", label=\"Class 0\")\n",
    "plt.hist(x2_c1, bins=\"auto\", alpha=0.6, color=\"yellow\", label=\"Class 1\")\n",
    "plt.xlabel('Likelihood hist - Exam 2')\n",
    "plt.legend()\n",
    "\n",
    "plt.show()\n"
   ]
  },
  {
   "cell_type": "markdown",
   "metadata": {},
   "source": [
    "d) Use the histograms to compute the likelihoods p(x1|C0), p(x1|C1), p(x2|C0) and p(x2|C1). For this define a function `likelihood_hist(x, hist_values, edge_values)` that returns the likelihood of x for a given histogram (defined by its values and bin edges as returned by the numpy `histogram()` function)."
   ]
  },
  {
   "cell_type": "code",
   "execution_count": 339,
   "metadata": {
    "pycharm": {
     "is_executing": false
    }
   },
   "outputs": [],
   "source": [
    "def likelihood_hist(x: float, hist_values: np.ndarray, bin_edges: np.ndarray) -> float:\n",
    "    # index qui contient x\n",
    "    bin_index = np.searchsorted(bin_edges, x, side=\"right\") - 1\n",
    "\n",
    "    # hors intervale \n",
    "    if bin_index < 0 or bin_index >= len(hist_values):\n",
    "        return 0.0\n",
    "\n",
    "    # compter total\n",
    "    total = hist_values.sum()\n",
    "    if total == 0:\n",
    "        return 0.0 # rend 0 rien si 0\n",
    "    return hist_values[bin_index] / total # rend la proba"
   ]
  },
  {
   "cell_type": "markdown",
   "metadata": {},
   "source": [
    "e) Implement the classification decision according to Bayes rule and compute the overall accuracy of the system on the test set ex1-data-test.csv. :\n",
    "- using only feature x1\n",
    "- using only feature x2\n",
    "- using x1 and x2 making the naive Bayes hypothesis of feature independence, i.e. p(X|Ck) = p(x1|Ck) · p(x2|Ck)"
   ]
  },
  {
   "cell_type": "code",
   "execution_count": 340,
   "metadata": {
    "pycharm": {
     "is_executing": false
    }
   },
   "outputs": [
    {
     "name": "stdout",
     "output_type": "stream",
     "text": [
      "          x1         x2  y\n",
      "0  39.196334  78.530294  0\n",
      "1  40.448499  86.839470  1\n",
      "2  65.571920  44.303497  0\n",
      "3  79.648113  70.806564  1\n",
      "4  66.260221  41.672703  0\n"
     ]
    }
   ],
   "source": [
    "X_test, y_test = read_data(\"ex1-data-test.csv\")"
   ]
  },
  {
   "cell_type": "code",
   "execution_count": 341,
   "metadata": {
    "pycharm": {
     "is_executing": false
    }
   },
   "outputs": [
    {
     "name": "stdout",
     "output_type": "stream",
     "text": [
      "Accuracy x1 : 0.7\n"
     ]
    }
   ],
   "source": [
    "# TODO: predict on test set in the 3 cases described above\n",
    "y_pred = []\n",
    "for v in X_test[\"x1\"]:\n",
    "    p0 = likelihood_hist(v, hist_x1_c0, bins_x1_c0) * p_c0\n",
    "    p1 = likelihood_hist(v, hist_x1_c1, bins_x1_c1) * p_c1\n",
    "    \n",
    "    classe = 0\n",
    "    if p1 > p0:\n",
    "        classe = 1\n",
    "    y_pred.append(classe)\n",
    "\n",
    "print(\"Accuracy x1 :\", accuracy_score(y_test, y_pred))"
   ]
  },
  {
   "cell_type": "code",
   "execution_count": 342,
   "metadata": {},
   "outputs": [
    {
     "name": "stdout",
     "output_type": "stream",
     "text": [
      "Accuracy x2 : 0.73\n"
     ]
    }
   ],
   "source": [
    "y_pred = []\n",
    "for v in X_test[\"x2\"]:\n",
    "    p0 = likelihood_hist(v, hist_x2_c0, bins_x2_c0) * p_c0\n",
    "    p1 = likelihood_hist(v, hist_x2_c1, bins_x2_c1) * p_c1\n",
    "    classe = 0\n",
    "    if p1 > p0:\n",
    "        classe = 1\n",
    "    y_pred.append(classe)\n",
    "print(\"Accuracy x2 :\", accuracy_score(y_test, y_pred))\n"
   ]
  },
  {
   "cell_type": "code",
   "execution_count": 343,
   "metadata": {},
   "outputs": [
    {
     "name": "stdout",
     "output_type": "stream",
     "text": [
      "Accuracy x1 + x2  : 0.92\n"
     ]
    }
   ],
   "source": [
    "\n",
    "y_pred = []\n",
    "\n",
    "for i in range(len(X_test)):\n",
    "    x1_value = X_test.iloc[i][\"x1\"]\n",
    "    x2_value = X_test.iloc[i][\"x2\"]\n",
    "\n",
    "    p1 = likelihood_hist(x1_value, hist_x1_c0, bins_x1_c0) * p_c0 * likelihood_hist(x2_value, hist_x2_c0, bins_x2_c0) * p_c0\n",
    "    p2 = likelihood_hist(x1_value, hist_x1_c1, bins_x1_c1) * p_c1 * likelihood_hist(x2_value, hist_x2_c1, bins_x2_c1) * p_c1\n",
    "\n",
    "    # on prend la classe avec + proba\n",
    "    if p2 > p1:\n",
    "        y_pred.append(1)\n",
    "    else:\n",
    "        y_pred.append(0)\n",
    "    \n",
    "print(\"Accuracy x1 + x2  :\", accuracy_score(y_test, y_pred))"
   ]
  },
  {
   "cell_type": "markdown",
   "metadata": {},
   "source": [
    "Which system is the best ?"
   ]
  },
  {
   "cell_type": "markdown",
   "metadata": {},
   "source": [
    "Le meilleur c'est celui lorsqu'on combine les deux features (Naive Bayes). Le modèle est plus fiable lorsqu'on utilise les deux car il a plus d'informations pour séparer les classes et baiser l'influence des valeurs bizarre. "
   ]
  },
  {
   "cell_type": "markdown",
   "metadata": {},
   "source": [
    "## 1b. Bayes - Univariate Gaussian distribution"
   ]
  },
  {
   "cell_type": "markdown",
   "metadata": {},
   "source": [
    "Do the same as in a) but this time using univariate Gaussian distribution to model the likelihoods p(x1|C0), p(x1|C1), p(x2|C0) and p(x2|C1). You may use the numpy functions `mean()` and `var()` to compute the mean μ and variance σ2 of the distribution. To model the likelihood of both features, you may also do the naive Bayes hypothesis of feature independence, i.e. p(X|Ck) = p(x1|Ck) · p(x2|Ck).\n"
   ]
  },
  {
   "cell_type": "code",
   "execution_count": 344,
   "metadata": {
    "pycharm": {
     "is_executing": false
    }
   },
   "outputs": [],
   "source": [
    "def likelihood_univariate_gaussian(x: float, mean: float, var: float) -> float:\n",
    "    # TODO: compute likelihoods from histograms outputs\n",
    "    coef = 1 / np.sqrt(2 * np.pi * var)\n",
    "    expo = np.exp(- (x - mean) ** 2 / (2.0 * var))\n",
    "    return coef * expo"
   ]
  },
  {
   "cell_type": "code",
   "execution_count": 345,
   "metadata": {
    "pycharm": {
     "is_executing": false
    }
   },
   "outputs": [
    {
     "name": "stdout",
     "output_type": "stream",
     "text": [
      "x1 C0: 52.032301098426046 300.2699173213914\n",
      "x1 C1: 74.71892269658788 218.67391860154936\n",
      "x2 C0: 54.62039209636222 252.15212843239624\n",
      "x2 C1: 73.9564020826201 252.12378022145145\n"
     ]
    }
   ],
   "source": [
    "# TODO: Compute mean and variance for each classes and each features (8 values)\n",
    "# Classe 0\n",
    "mean_x1_c0 = np.mean(x1_c0)\n",
    "var_x1_c0  = np.var(x1_c0)\n",
    "mean_x2_c0 = np.mean(x2_c0)\n",
    "var_x2_c0  = np.var(x2_c0)\n",
    "\n",
    "# Classs 2\n",
    "mean_x1_c1 = np.mean(x1_c1)\n",
    "var_x1_c1  = np.var(x1_c1)\n",
    "mean_x2_c1 = np.mean(x2_c1)\n",
    "var_x2_c1  = np.var(x2_c1)\n",
    "\n",
    "print(\"x1 C0:\", mean_x1_c0, var_x1_c0)\n",
    "print(\"x1 C1:\", mean_x1_c1, var_x1_c1)\n",
    "print(\"x2 C0:\", mean_x2_c0, var_x2_c0)\n",
    "print(\"x2 C1:\", mean_x2_c1, var_x2_c1)"
   ]
  },
  {
   "cell_type": "code",
   "execution_count": 346,
   "metadata": {},
   "outputs": [
    {
     "name": "stdout",
     "output_type": "stream",
     "text": [
      "Accuracy x1 : 0.71\n"
     ]
    }
   ],
   "source": [
    "# TODO: predict on test set in the 3 cases\n",
    "\n",
    "y_pred = []\n",
    "for i in X_test[\"x1\"]:\n",
    "    p0 = likelihood_univariate_gaussian(i, mean_x1_c0, var_x1_c0) * p_c0\n",
    "    p1 = likelihood_univariate_gaussian(i, mean_x1_c1, var_x1_c1) * p_c1\n",
    "\n",
    "    classe = 0\n",
    "    if p1 > p0:\n",
    "        classe = 1\n",
    "    y_pred.append(classe)\n",
    "\n",
    "print(\"Accuracy x1 :\", accuracy_score(y_test, y_pred))\n"
   ]
  },
  {
   "cell_type": "code",
   "execution_count": 347,
   "metadata": {},
   "outputs": [
    {
     "name": "stdout",
     "output_type": "stream",
     "text": [
      "Accuracy x2 : 0.72\n"
     ]
    }
   ],
   "source": [
    "y_pred = []\n",
    "for i in X_test[\"x2\"]:\n",
    "    p0 = likelihood_univariate_gaussian(i, mean_x2_c0, var_x2_c0) * p_c0\n",
    "    p1 = likelihood_univariate_gaussian(i, mean_x2_c1, var_x2_c1) * p_c1\n",
    "\n",
    "    classe = 0\n",
    "    if p1 > p0:\n",
    "        classe = 1\n",
    "    y_pred.append(classe)\n",
    "\n",
    "print(\"Accuracy x2 :\", accuracy_score(y_test, y_pred))\n"
   ]
  },
  {
   "cell_type": "code",
   "execution_count": 348,
   "metadata": {},
   "outputs": [
    {
     "name": "stdout",
     "output_type": "stream",
     "text": [
      "Accuracy x1 x2 : 0.92\n"
     ]
    }
   ],
   "source": [
    "y_pred = []\n",
    "\n",
    "for i in range(len(X_test)):\n",
    "\n",
    "    # récupère la valeur de x1-2 à la ligne i\n",
    "    x1_value = X_test.iloc[i][\"x1\"]\n",
    "    x2_value = X_test.iloc[i][\"x2\"]\n",
    "    \n",
    "    # (cours) Naive Bayes hypothesis: p(X|C_k)=p(x_1|C_k) * p(x_2|C_k). Then posterior P(C_k|X)\\propto p(X|C_k) * P(C_k)\n",
    "    p0 = likelihood_univariate_gaussian(x1_value, mean_x1_c0, var_x1_c0) * p_c0 * likelihood_univariate_gaussian(x2_value, mean_x2_c0, var_x2_c0) * p_c0\n",
    "    p1 = likelihood_univariate_gaussian(x1_value, mean_x1_c1, var_x1_c1) * p_c1 * likelihood_univariate_gaussian(x2_value, mean_x2_c1, var_x2_c1) * p_c1\n",
    "\n",
    "    # on prend la classe avec la plus grande proba\n",
    "    if p1 > p0:\n",
    "        y_pred.append(1)\n",
    "    else:\n",
    "        y_pred.append(0)\n",
    "\n",
    "print(\"Accuracy x1 x2 :\", accuracy_score(y_test, y_pred))"
   ]
  },
  {
   "cell_type": "markdown",
   "metadata": {},
   "source": [
    "Pareil l'ajout des deux features donne une meilleure accuracy."
   ]
  }
 ],
 "metadata": {
  "kernelspec": {
   "display_name": ".venv",
   "language": "python",
   "name": "python3"
  },
  "language_info": {
   "codemirror_mode": {
    "name": "ipython",
    "version": 3
   },
   "file_extension": ".py",
   "mimetype": "text/x-python",
   "name": "python",
   "nbconvert_exporter": "python",
   "pygments_lexer": "ipython3",
   "version": "3.13.7"
  },
  "pycharm": {
   "stem_cell": {
    "cell_type": "raw",
    "metadata": {
     "collapsed": false
    },
    "source": []
   }
  }
 },
 "nbformat": 4,
 "nbformat_minor": 1
}
