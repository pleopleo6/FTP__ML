{
 "cells": [
  {
   "cell_type": "markdown",
   "id": "6aa64859",
   "metadata": {},
   "source": [
    "## Questions :"
   ]
  },
  {
   "cell_type": "markdown",
   "id": "44fd6d66",
   "metadata": {},
   "source": [
    "1) What is the predicted life satisfaction for Cyprus assuming that the GDP per capita is\n",
    "38,341 USD?\n",
    "\n",
    "Pour k=27 donne :\n",
    "k=27 : prédiction: [6.56666667]\n",
    "On voit que plus k augmente, la valeur se stabilise autour de 6.3. la satisfaction prédite est environ 6.3 quand on choisit un k vers 5.\n",
    "\n",
    "2) What is the predicted life satisfaction for Switzerland assuming that the GDP per capita\n",
    "is 69,669 USD?\n",
    "\n",
    "Ici les valeurs se stabilisent autour de 7.3 quand on utilise quelques voisins.\n",
    "\n",
    "3) What becomes the prediction when K is approaching N (the number of points in the\n",
    "training set). Do the experiment with K = 20 and K = 27, report your observation.\n",
    "\n",
    "quand k approche N, le KNN fait presque la moyenne de toutes les valeurs cibles. la prédiction se rapproche d’une constante qui reflète la moyenne générale, et l’algorithme perd sa capacité à s’adapter localement aux données.\n",
    "\n",
    "Avec k grand (20 ou 27) :\n",
    "\t•\tChypre : ~6.32 → 6.57\n",
    "\t•\tSuisse : ~6.88 → 6.57\n",
    "\n",
    "Ce qui est moins bien pour la suisse par exemple"
   ]
  },
  {
   "cell_type": "markdown",
   "id": "3757b04e",
   "metadata": {},
   "source": [
    "Output on the other notebook for GDP :\n",
    "\n",
    "cyprus :\n",
    " \n",
    "k=1 : prédiction: [7.2]\n",
    "k=3 : prédiction: [6.36666667]\n",
    "k=5 : prédiction: [6.26]\n",
    "k=7 : prédiction: [6.25714286]\n",
    "k=20 : prédiction: [6.325]\n",
    "k=27 : prédiction: [6.56666667]\n",
    " \n",
    "switzerland :\n",
    " \n",
    "k=1 : prédiction: [6.9]\n",
    "k=3 : prédiction: [7.3]\n",
    "k=5 : prédiction: [7.3]\n",
    "k=7 : prédiction: [7.25714286]\n",
    "k=20 : prédiction: [6.88]\n",
    "k=27 : prédiction: [6.56666667]"
   ]
  }
 ],
 "metadata": {
  "language_info": {
   "name": "python"
  }
 },
 "nbformat": 4,
 "nbformat_minor": 5
}
