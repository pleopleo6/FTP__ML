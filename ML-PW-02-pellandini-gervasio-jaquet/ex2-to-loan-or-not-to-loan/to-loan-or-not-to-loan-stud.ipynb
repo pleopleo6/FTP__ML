{
 "cells": [
  {
   "cell_type": "markdown",
   "id": "4da3499e",
   "metadata": {},
   "source": [
    "TP fais par : Leo Pellandini, Steven Jaquet et André Quintas Gervasio"
   ]
  },
  {
   "cell_type": "markdown",
   "id": "5da8da61",
   "metadata": {},
   "source": [
    "# Exercice 2: Classification system with KNN - To Loan or Not To Loan"
   ]
  },
  {
   "cell_type": "markdown",
   "id": "9669e493",
   "metadata": {},
   "source": [
    "## Imports"
   ]
  },
  {
   "cell_type": "markdown",
   "id": "22bbd869",
   "metadata": {},
   "source": [
    "Import some useful libraries"
   ]
  },
  {
   "cell_type": "code",
   "execution_count": 165,
   "id": "26758936",
   "metadata": {},
   "outputs": [],
   "source": [
    "import pandas as pd\n",
    "import numpy as np\n",
    "from sklearn.preprocessing import OrdinalEncoder, StandardScaler\n",
    "from sklearn.model_selection import train_test_split"
   ]
  },
  {
   "cell_type": "markdown",
   "id": "abc131ca",
   "metadata": {},
   "source": [
    "## a. Getting started"
   ]
  },
  {
   "cell_type": "markdown",
   "id": "45b518e5",
   "metadata": {},
   "source": [
    "### Data loading"
   ]
  },
  {
   "cell_type": "markdown",
   "id": "1ef061f2",
   "metadata": {},
   "source": [
    "The original dataset comes from the Kaggle's [Loan Prediction](https://www.kaggle.com/ninzaami/loan-predication) problem. The provided dataset has already undergone some processing, such as removing some columns and invalid data. Pandas is used to read the CSV file."
   ]
  },
  {
   "cell_type": "code",
   "execution_count": 166,
   "id": "a23f62b5",
   "metadata": {},
   "outputs": [],
   "source": [
    "data = pd.read_csv(\"loandata.csv\")"
   ]
  },
  {
   "cell_type": "markdown",
   "id": "02ca77c7",
   "metadata": {},
   "source": [
    "Display the head of the data."
   ]
  },
  {
   "cell_type": "code",
   "execution_count": 167,
   "id": "f4bec500",
   "metadata": {},
   "outputs": [
    {
     "data": {
      "text/html": [
       "<div>\n",
       "<style scoped>\n",
       "    .dataframe tbody tr th:only-of-type {\n",
       "        vertical-align: middle;\n",
       "    }\n",
       "\n",
       "    .dataframe tbody tr th {\n",
       "        vertical-align: top;\n",
       "    }\n",
       "\n",
       "    .dataframe thead th {\n",
       "        text-align: right;\n",
       "    }\n",
       "</style>\n",
       "<table border=\"1\" class=\"dataframe\">\n",
       "  <thead>\n",
       "    <tr style=\"text-align: right;\">\n",
       "      <th></th>\n",
       "      <th>Gender</th>\n",
       "      <th>Married</th>\n",
       "      <th>Education</th>\n",
       "      <th>TotalIncome</th>\n",
       "      <th>LoanAmount</th>\n",
       "      <th>CreditHistory</th>\n",
       "      <th>LoanStatus</th>\n",
       "    </tr>\n",
       "  </thead>\n",
       "  <tbody>\n",
       "    <tr>\n",
       "      <th>0</th>\n",
       "      <td>Male</td>\n",
       "      <td>Yes</td>\n",
       "      <td>Graduate</td>\n",
       "      <td>6091.0</td>\n",
       "      <td>128.0</td>\n",
       "      <td>1.0</td>\n",
       "      <td>N</td>\n",
       "    </tr>\n",
       "    <tr>\n",
       "      <th>1</th>\n",
       "      <td>Male</td>\n",
       "      <td>Yes</td>\n",
       "      <td>Graduate</td>\n",
       "      <td>3000.0</td>\n",
       "      <td>66.0</td>\n",
       "      <td>1.0</td>\n",
       "      <td>Y</td>\n",
       "    </tr>\n",
       "    <tr>\n",
       "      <th>2</th>\n",
       "      <td>Male</td>\n",
       "      <td>Yes</td>\n",
       "      <td>Not Graduate</td>\n",
       "      <td>4941.0</td>\n",
       "      <td>120.0</td>\n",
       "      <td>1.0</td>\n",
       "      <td>Y</td>\n",
       "    </tr>\n",
       "    <tr>\n",
       "      <th>3</th>\n",
       "      <td>Male</td>\n",
       "      <td>No</td>\n",
       "      <td>Graduate</td>\n",
       "      <td>6000.0</td>\n",
       "      <td>141.0</td>\n",
       "      <td>1.0</td>\n",
       "      <td>Y</td>\n",
       "    </tr>\n",
       "    <tr>\n",
       "      <th>4</th>\n",
       "      <td>Male</td>\n",
       "      <td>Yes</td>\n",
       "      <td>Graduate</td>\n",
       "      <td>9613.0</td>\n",
       "      <td>267.0</td>\n",
       "      <td>1.0</td>\n",
       "      <td>Y</td>\n",
       "    </tr>\n",
       "  </tbody>\n",
       "</table>\n",
       "</div>"
      ],
      "text/plain": [
       "  Gender Married     Education  TotalIncome  LoanAmount  CreditHistory  \\\n",
       "0   Male     Yes      Graduate       6091.0       128.0            1.0   \n",
       "1   Male     Yes      Graduate       3000.0        66.0            1.0   \n",
       "2   Male     Yes  Not Graduate       4941.0       120.0            1.0   \n",
       "3   Male      No      Graduate       6000.0       141.0            1.0   \n",
       "4   Male     Yes      Graduate       9613.0       267.0            1.0   \n",
       "\n",
       "  LoanStatus  \n",
       "0          N  \n",
       "1          Y  \n",
       "2          Y  \n",
       "3          Y  \n",
       "4          Y  "
      ]
     },
     "execution_count": 167,
     "metadata": {},
     "output_type": "execute_result"
    }
   ],
   "source": [
    "data.head()"
   ]
  },
  {
   "cell_type": "markdown",
   "id": "e271b475",
   "metadata": {},
   "source": [
    "Data's columns:\n",
    "* **Gender:** Applicant gender (Male/ Female)\n",
    "* **Married:** Is the Applicant married? (Y/N)\n",
    "* **Education:** Applicant Education (Graduate/ Not Graduate)\n",
    "* **TotalIncome:** Applicant total income (sum of `ApplicantIncome` and `CoapplicantIncome` columns in the original dataset)\n",
    "* **LoanAmount:** Loan amount in thousands\n",
    "* **CreditHistory:** Credit history meets guidelines\n",
    "* **LoanStatus** (Target)**:** Loan approved (Y/N)"
   ]
  },
  {
   "cell_type": "markdown",
   "id": "702ce4e6",
   "metadata": {},
   "source": [
    "### Data preprocessing"
   ]
  },
  {
   "cell_type": "markdown",
   "id": "7fce724c",
   "metadata": {},
   "source": [
    "Define a list of categorical columns to encode."
   ]
  },
  {
   "cell_type": "code",
   "execution_count": 168,
   "id": "2c56efa5",
   "metadata": {},
   "outputs": [],
   "source": [
    "categorical_columns = [\"Gender\", \"Married\", \"Education\", \"LoanStatus\"]"
   ]
  },
  {
   "cell_type": "markdown",
   "id": "d8915a68",
   "metadata": {},
   "source": [
    "Encode categorical columns using the [`OrdinalEncoder`](https://scikit-learn.org/stable/modules/generated/sklearn.preprocessing.OrdinalEncoder.html) of scikit learn."
   ]
  },
  {
   "cell_type": "code",
   "execution_count": 169,
   "id": "dc5f9cda",
   "metadata": {},
   "outputs": [],
   "source": [
    "data[categorical_columns] = OrdinalEncoder().fit_transform(data[categorical_columns])"
   ]
  },
  {
   "cell_type": "markdown",
   "id": "df9c84b4",
   "metadata": {},
   "source": [
    "Split into `X` and `y`."
   ]
  },
  {
   "cell_type": "code",
   "execution_count": 170,
   "id": "83beacfb",
   "metadata": {},
   "outputs": [],
   "source": [
    "X = data.drop(columns=\"LoanStatus\")\n",
    "y = data.LoanStatus"
   ]
  },
  {
   "cell_type": "markdown",
   "id": "e25c8f24",
   "metadata": {},
   "source": [
    "Normalize data using the [`StandardScaler`](https://scikit-learn.org/stable/modules/generated/sklearn.preprocessing.StandardScaler.html) of scikit learn."
   ]
  },
  {
   "cell_type": "code",
   "execution_count": 171,
   "id": "9c567bb7",
   "metadata": {},
   "outputs": [],
   "source": [
    "X[X.columns] = StandardScaler().fit_transform(X[X.columns])"
   ]
  },
  {
   "cell_type": "markdown",
   "id": "7437ea21",
   "metadata": {},
   "source": [
    "Convert `y` type to `int` "
   ]
  },
  {
   "cell_type": "code",
   "execution_count": 172,
   "id": "c0db7c1f",
   "metadata": {},
   "outputs": [],
   "source": [
    "y = y.astype(int)"
   ]
  },
  {
   "cell_type": "markdown",
   "id": "6d1d1f10",
   "metadata": {},
   "source": [
    "Split dataset into train and test sets."
   ]
  },
  {
   "cell_type": "code",
   "execution_count": 173,
   "id": "b05be2cc",
   "metadata": {},
   "outputs": [],
   "source": [
    "X_train, X_test, y_train, y_test = train_test_split(X, y, stratify=y, test_size=0.2, random_state=42)"
   ]
  },
  {
   "cell_type": "markdown",
   "id": "8f6d3ce6",
   "metadata": {},
   "source": [
    "## b. Dummy classifier"
   ]
  },
  {
   "cell_type": "markdown",
   "id": "80ec4058",
   "metadata": {},
   "source": [
    "Build a dummy classifier that takes decisions randomly."
   ]
  },
  {
   "cell_type": "code",
   "execution_count": 174,
   "id": "30919672",
   "metadata": {},
   "outputs": [],
   "source": [
    "class DummyClassifier():\n",
    "    \n",
    "    def __init__(self):\n",
    "        \"\"\"\n",
    "        Initialize the class.\n",
    "        \"\"\"\n",
    "        \n",
    "    \n",
    "    def fit(self, X, y):\n",
    "        \"\"\"\n",
    "        Fit the dummy classifier.\n",
    "        \n",
    "        Parameters\n",
    "        ----------\n",
    "        X : Numpy array or Pandas DataFrame of shape (n_samples, n_features)\n",
    "            Training data.\n",
    "        y : Numpy array or Pandas DataFrame of shape (n_samples,)\n",
    "            Target values.\n",
    "        \"\"\"\n",
    "        \n",
    "    \n",
    "    def predict(self, X):\n",
    "        \"\"\"\n",
    "        Predict the class labels for the provided data.\n",
    "\n",
    "        Parameters\n",
    "        ----------\n",
    "        X : Numpy array or Pandas DataFrame of shape (n_queries, n_features)\n",
    "            Test samples.\n",
    "\n",
    "        Returns\n",
    "        -------\n",
    "        y : Numpy array or Pandas DataFrame of shape (n_queries,)\n",
    "            Class labels for each data sample.\n",
    "        \"\"\"\n",
    "        \n",
    "        n = len(X)  # nombre d'exemples\n",
    "        return np.random.randint(0, 2, size=n)"
   ]
  },
  {
   "cell_type": "markdown",
   "id": "1dd67c48",
   "metadata": {},
   "source": [
    "Implement a function to evaluate the performance of a classification by computing the accuracy ($N_{correct}/N$)."
   ]
  },
  {
   "cell_type": "code",
   "execution_count": 175,
   "id": "184f3905",
   "metadata": {},
   "outputs": [],
   "source": [
    "def accuracy_score(y_true, y_pred):\n",
    "    y_true = np.asarray(y_true)\n",
    "    y_pred = np.asarray(y_pred)\n",
    "    return np.mean(y_true == y_pred)"
   ]
  },
  {
   "cell_type": "markdown",
   "id": "90dcae17",
   "metadata": {},
   "source": [
    "Compute the performance of the dummy classifier using the provided test set."
   ]
  },
  {
   "cell_type": "code",
   "execution_count": 176,
   "id": "fa666b66",
   "metadata": {},
   "outputs": [
    {
     "name": "stdout",
     "output_type": "stream",
     "text": [
      "Accuracy du classifieur aléatoire : 0.573\n"
     ]
    }
   ],
   "source": [
    "# Création et entraînement d'un classifieur aléatoire\n",
    "dummy = DummyClassifier()\n",
    "dummy.fit(X_train, y_train)\n",
    "\n",
    "# prédiction sur l'ensemble de test\n",
    "y_pred_dummy = dummy.predict(X_test)\n",
    "\n",
    "# accurary \n",
    "acc = accuracy_score(y_test, y_pred_dummy)\n",
    "print(f\"Accuracy du classifieur aléatoire : {acc:.3f}\")"
   ]
  },
  {
   "cell_type": "markdown",
   "id": "9e10cd97",
   "metadata": {},
   "source": [
    "## c. K-Nearest Neighbors classifier"
   ]
  },
  {
   "cell_type": "markdown",
   "id": "70009457",
   "metadata": {},
   "source": [
    "Build a K-Nearest Neighbors classifier using an Euclidian distance computation and a simple majority voting criterion."
   ]
  },
  {
   "cell_type": "code",
   "execution_count": 177,
   "id": "759e924e",
   "metadata": {},
   "outputs": [],
   "source": [
    "class KNNClassifier():\n",
    "    \n",
    "    def __init__(self, n_neighbors=3):\n",
    "        \"\"\"\n",
    "        Initialize the class.\n",
    "        \n",
    "        Parameters\n",
    "        ----------\n",
    "        n_neighbors : int, default=3\n",
    "            Number of neighbors to use by default.\n",
    "        \"\"\"\n",
    "        self.n_neighbors = n_neighbors\n",
    "\n",
    "    \n",
    "    def fit(self, X, y):\n",
    "        \"\"\"\n",
    "        Fit the k-nearest neighbors classifier.\n",
    "        \n",
    "        Parameters\n",
    "        ----------\n",
    "        X : Numpy array or Pandas DataFrame of shape (n_samples, n_features)\n",
    "            Training data.\n",
    "        y : Numpy array or Pandas DataFrame of shape (n_samples,)\n",
    "            Target values.\n",
    "        \"\"\"\n",
    "        self.X_train = np.asarray(X)\n",
    "        self.y_train = np.asarray(y) \n",
    "    \n",
    "    @staticmethod\n",
    "    def _euclidian_distance(a, b):\n",
    "        \"\"\"\n",
    "        Utility function to compute the euclidian distance.\n",
    "        \n",
    "        Parameters\n",
    "        ----------\n",
    "        a : Numpy array or Pandas DataFrame\n",
    "            First operand.\n",
    "        b : Numpy array or Pandas DataFrame\n",
    "            Second operand.\n",
    "        \"\"\"\n",
    "        # Version claire avec (a - b) ** 2\n",
    "        return np.sqrt(((a - b) ** 2).sum(axis=1))  \n",
    "    \n",
    "    def _predict_one(self, x):\n",
    "        # distances entre x et tous les points du train \n",
    "        dists = np.linalg.norm(self.X_train - x, axis=1)\n",
    "\n",
    "        # indices des k plus proches voisins\n",
    "        k = self.n_neighbors\n",
    "        idx = np.argpartition(dists, k)[:k]\n",
    "\n",
    "        # vote tout bête : moyenne des labels puis arrondi (0/1)\n",
    "        pred = np.rint(self.y_train[idx].mean()).astype(int)\n",
    "        return int(pred)\n",
    "\n",
    "    def predict(self, X):\n",
    "        \"\"\"\n",
    "        Predict the class labels for the provided data.\n",
    "\n",
    "        Parameters\n",
    "        ----------\n",
    "        X : Numpy array or Pandas DataFrame of shape (n_queries, n_features)\n",
    "            Test samples.\n",
    "\n",
    "        Returns\n",
    "        -------\n",
    "        y : Numpy array or Pandas DataFrame of shape (n_queries,)\n",
    "            Class labels for each data sample.\n",
    "        \"\"\"\n",
    "        X = np.asarray(X)\n",
    "        y = np.empty(len(X), dtype=int)\n",
    "        for i, row in enumerate(X):\n",
    "            y[i] = self._predict_one(row)\n",
    "        return y"
   ]
  },
  {
   "cell_type": "markdown",
   "id": "6c2b4811",
   "metadata": {},
   "source": [
    "Compute the performance of the system as a function of $k = 1...7$."
   ]
  },
  {
   "cell_type": "code",
   "execution_count": 178,
   "id": "cf589e66",
   "metadata": {},
   "outputs": [
    {
     "name": "stdout",
     "output_type": "stream",
     "text": [
      "k = 1  →  accuracy : 0.6979166666666666\n",
      "k = 2  →  accuracy : 0.6354166666666666\n",
      "k = 3  →  accuracy : 0.7916666666666666\n",
      "k = 4  →  accuracy : 0.7395833333333334\n",
      "k = 5  →  accuracy : 0.8125\n",
      "k = 6  →  accuracy : 0.78125\n",
      "k = 7  →  accuracy : 0.8020833333333334\n"
     ]
    }
   ],
   "source": [
    "# test du KNN pour plusieurs valeurs de k\n",
    "for k in range(1, 8):\n",
    "    model = KNNClassifier(k)\n",
    "    model.fit(X_train, y_train)\n",
    "    y_pred = model.predict(X_test)\n",
    "    acc = accuracy_score(y_test, y_pred)\n",
    "    print(f\"k = {k}  →  accuracy : {acc}\")"
   ]
  },
  {
   "cell_type": "markdown",
   "id": "534afc63",
   "metadata": {},
   "source": [
    "La précision augmente quand on passe d’un seul voisin à plusieurs, atteint son maximum à k = 5 (≈81 %), puis redescend légèrement ; cela montre qu’un petit nombre de voisins réduit le bruit, mais qu’un k trop grand n'est pas forcement benefique"
   ]
  },
  {
   "cell_type": "markdown",
   "id": "71c51f35",
   "metadata": {},
   "source": [
    "Run the KNN algorithm using only the features `TotalIncome` and `CreditHistory`."
   ]
  },
  {
   "cell_type": "code",
   "execution_count": 179,
   "id": "2f6f262b",
   "metadata": {},
   "outputs": [
    {
     "name": "stdout",
     "output_type": "stream",
     "text": [
      "k = 1  →  accuracy : 0.760\n",
      "k = 2  →  accuracy : 0.688\n",
      "k = 3  →  accuracy : 0.781\n",
      "k = 4  →  accuracy : 0.698\n",
      "k = 5  →  accuracy : 0.823\n",
      "k = 6  →  accuracy : 0.771\n",
      "k = 7  →  accuracy : 0.812\n"
     ]
    }
   ],
   "source": [
    "X_limited_train = X_train[[\"TotalIncome\", \"CreditHistory\"]]\n",
    "X_limited_test = X_test[[\"TotalIncome\", \"CreditHistory\"]]\n",
    "\n",
    "for k in range(1, 8):\n",
    "    model = KNNClassifier(k)\n",
    "    model.fit(X_limited_train, y_train)\n",
    "    preds = model.predict(X_limited_test)\n",
    "    acc = accuracy_score(y_test, preds)\n",
    "    print(f\"k = {k}  →  accuracy : {acc:.3f}\")\n"
   ]
  },
  {
   "cell_type": "markdown",
   "id": "e2b1a682",
   "metadata": {},
   "source": [
    "Re-run the KNN algorithm using the features `TotalIncome`, `CreditHistory` and `Married`."
   ]
  },
  {
   "cell_type": "code",
   "execution_count": 180,
   "id": "c0bda7ee",
   "metadata": {},
   "outputs": [
    {
     "name": "stdout",
     "output_type": "stream",
     "text": [
      "For k=1 : P = 0.7916666666666666\n",
      "For k=2 : P = 0.6875\n",
      "For k=3 : P = 0.8645833333333334\n",
      "For k=4 : P = 0.7604166666666666\n",
      "For k=5 : P = 0.8020833333333334\n",
      "For k=6 : P = 0.75\n",
      "For k=7 : P = 0.7916666666666666\n"
     ]
    }
   ],
   "source": [
    "X_train_limited = X_train[[\"TotalIncome\", \"CreditHistory\", \"Married\"]]\n",
    "X_test_limited = X_test[[\"TotalIncome\", \"CreditHistory\", \"Married\"]]\n",
    "\n",
    "for k in range(1, 8):\n",
    "    model = KNNClassifier(k)\n",
    "    model.fit(X_train_limited, y_train)\n",
    "    preds = model.predict(X_test_limited)\n",
    "    acc = accuracy_score(y_test, preds)\n",
    "    print(f\"For k={k} : P = {acc}\")"
   ]
  },
  {
   "cell_type": "markdown",
   "id": "2724167a",
   "metadata": {},
   "source": [
    "Re-run the KNN algorithm using all features."
   ]
  },
  {
   "cell_type": "code",
   "execution_count": 181,
   "id": "46ec9699",
   "metadata": {},
   "outputs": [
    {
     "name": "stdout",
     "output_type": "stream",
     "text": [
      "For k=1 : P = 0.7604166666666666\n",
      "For k=2 : P = 0.6875\n",
      "For k=3 : P = 0.78125\n",
      "For k=4 : P = 0.6979166666666666\n",
      "For k=5 : P = 0.8229166666666666\n",
      "For k=6 : P = 0.7708333333333334\n",
      "For k=7 : P = 0.8125\n"
     ]
    }
   ],
   "source": [
    "X = data[[\"TotalIncome\", \"CreditHistory\"]]\n",
    "\n",
    "# Normalisation\n",
    "scaler = StandardScaler()\n",
    "X = scaler.fit_transform(X)\n",
    "\n",
    "# Split train / test\n",
    "X_train, X_test, y_train, y_test = train_test_split(\n",
    "    X, y, stratify=y, test_size=0.2, random_state=42\n",
    ")\n",
    "\n",
    "# evaluation pour k = 1..7\n",
    "for k in range(1, 8):\n",
    "    model = KNNClassifier(k)\n",
    "    model.fit(X_train, y_train)\n",
    "    y_pred = model.predict(X_test)\n",
    "    acc = accuracy_score(y_test, y_pred)\n",
    "    print(f\"For k={k} : P = {acc}\")"
   ]
  },
  {
   "cell_type": "markdown",
   "id": "da09671e",
   "metadata": {},
   "source": [
    "e) Do it again by using all the features available. Compare the performance obtained when\n",
    "using different number of features. What do you notice? What can you tell about the\n",
    "relationship between the performance, the number of samples and the number of features\n",
    "when using this algorithm?\n",
    "\n",
    "on constate que rajouter une troisième variable améliore légèrement l’accuracy (jusqu’à ~86 % avec k=3), alors que l’utilisation de toutes les features n’apporte pas de gain plus élevé que 86%\n",
    "\n",
    "Cela montre que KNN ne profite pas de l’ajout de nouvelles dimensions : si celles-ci n’apportent pas d’information utile ou si le nombre d’échantillons reste limité, les distances deviennent moins discriminantes.\n",
    "\n",
    "Le graphe est ci-dessous :"
   ]
  },
  {
   "cell_type": "code",
   "execution_count": 182,
   "id": "648aa52e",
   "metadata": {},
   "outputs": [
    {
     "data": {
      "image/png": "[encoded data removed]",
      "text/plain": [
       "<Figure size 800x500 with 1 Axes>"
      ]
     },
     "metadata": {},
     "output_type": "display_data"
    }
   ],
   "source": [
    "import matplotlib.pyplot as plt\n",
    "\n",
    "X = data.drop(columns=[\"LoanStatus\"]).copy()\n",
    "y = data[\"LoanStatus\"].to_numpy()\n",
    "\n",
    "# si colonnes texte on les encode\n",
    "for col in X.select_dtypes(include=\"object\").columns:\n",
    "    X[col] = X[col].astype(\"category\").cat.codes\n",
    "\n",
    "# normalisation\n",
    "scaler = StandardScaler()\n",
    "X_scaled = pd.DataFrame(\n",
    "    scaler.fit_transform(X),\n",
    "    columns=X.columns\n",
    ")\n",
    "\n",
    "# on teste : 2 features, 3 features, toutes\n",
    "feature_sets = [\n",
    "    [\"TotalIncome\", \"CreditHistory\"],\n",
    "    [\"TotalIncome\", \"CreditHistory\", \"Married\"],\n",
    "    list(X_scaled.columns)  # toutes\n",
    "]\n",
    "\n",
    "scores = {}\n",
    "\n",
    "for features in feature_sets:\n",
    "    # split train/test\n",
    "    X_train, X_test, y_train, y_test = train_test_split(\n",
    "        X_scaled[features], y, stratify=y, test_size=0.2, random_state=42\n",
    "    )\n",
    "\n",
    "    acc_list = []\n",
    "    for k in range(1, 8):\n",
    "        model = KNNClassifier(k)\n",
    "        model.fit(X_train, y_train)\n",
    "        preds = model.predict(X_test)\n",
    "        acc = accuracy_score(y_test, preds)\n",
    "        acc_list.append(acc)\n",
    "    scores[\", \".join(features) if len(features)<=3 else \"All features\"] = acc_list\n",
    "\n",
    "# --- Affichage ---\n",
    "plt.figure(figsize=(8,5))\n",
    "for label, acc_list in scores.items():\n",
    "    plt.plot(range(1,8), acc_list, marker='o', label=label)\n",
    "plt.xlabel(\"k (nombre de voisins)\")\n",
    "plt.ylabel(\"Accuracy\")\n",
    "plt.show()\n"
   ]
  },
  {
   "cell_type": "markdown",
   "id": "84161bc8",
   "metadata": {},
   "source": [
    "TP fais par : Leo Pellandini, Steven Jaquet et André Quintas Gervasio"
   ]
  },
  {
   "cell_type": "markdown",
   "id": "c10be84f",
   "metadata": {},
   "source": [
    "f) How is your system taking decisions when you have an equal number of votes for both\n",
    "classes with values of k = 2, 4, 6 ?\n",
    "\n",
    "On voit donc que lorsqu’il y a égalité entre les classes, l’algorithme décide par défaut de renvoyer la classe 0.\n",
    "\n",
    "Quand il y a égalité, la moyenne des étiquettes vaut 0.5 et la fonction round/np.rint arrondit 0.5 à 0 ; le modèle prédit donc toujours la classe 0 en cas d’égalité.\n",
    "\n",
    "Comme on voit si-dessous avec un dataset fais à la main:"
   ]
  },
  {
   "cell_type": "code",
   "execution_count": 183,
   "id": "707e05b6",
   "metadata": {},
   "outputs": [
    {
     "name": "stdout",
     "output_type": "stream",
     "text": [
      "k=2: 0=2, 1=0\n",
      " prédiction: 0\n",
      "k=4: 0=2, 1=2\n",
      " prédiction: 0\n",
      "k=6: 0=4, 1=2\n",
      " prédiction: 0\n"
     ]
    }
   ],
   "source": [
    "X_train = np.array([[1,0],[-1,0],[0,1],[0,-1],[2,0],[-2,0],[0,2],[0,-2]], float)\n",
    "y_train = np.array([0,0,1,1,0,0,1,1])\n",
    "X_test = np.array([[0., 0.]])\n",
    "\n",
    "def votes(x, k):\n",
    "    d = np.linalg.norm(X_train - x, axis=1)\n",
    "    k = min(k, len(X_train)-1)\n",
    "    idx = np.argsort(d)[:k]\n",
    "    labs = y_train[idx]\n",
    "    print(f\"k={k}: 0={sum(labs==0)}, 1={sum(labs==1)}\")\n",
    "    return k\n",
    "\n",
    "for k in [2,4,6]:\n",
    "    k_eff = votes(X_test[0], k)\n",
    "    m = KNNClassifier(k_eff)\n",
    "    m.fit(X_train, y_train)\n",
    "    print(\" prédiction:\", m.predict(X_test)[0])"
   ]
  }
 ],
 "metadata": {
  "kernelspec": {
   "display_name": ".venv",
   "language": "python",
   "name": "python3"
  },
  "language_info": {
   "codemirror_mode": {
    "name": "ipython",
    "version": 3
   },
   "file_extension": ".py",
   "mimetype": "text/x-python",
   "name": "python",
   "nbconvert_exporter": "python",
   "pygments_lexer": "ipython3",
   "version": "3.13.7"
  }
 },
 "nbformat": 4,
 "nbformat_minor": 5
}
